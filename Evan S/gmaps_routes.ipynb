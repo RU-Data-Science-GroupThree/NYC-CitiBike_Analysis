{
 "cells": [
  {
   "cell_type": "code",
   "execution_count": 3,
   "metadata": {},
   "outputs": [],
   "source": [
    "import pandas as pd\n",
    "import gmaps\n",
    "import gmaps.datasets\n",
    "import requests\n",
    "\n",
    "from api_keys import g_key\n"
   ]
  },
  {
   "cell_type": "code",
   "execution_count": null,
   "metadata": {},
   "outputs": [],
   "source": []
  },
  {
   "cell_type": "code",
   "execution_count": 4,
   "metadata": {},
   "outputs": [
    {
     "data": {
      "text/plain": [
       "{'geocoded_waypoints': [{'geocoder_status': 'OK',\n",
       "   'place_id': 'ChIJt0hL8Bb2wokRxBkIfngtuyw',\n",
       "   'types': ['establishment', 'point_of_interest']},\n",
       "  {'geocoder_status': 'OK',\n",
       "   'place_id': 'ChIJkbGxyRH2wokRaoXFUvZSYyA',\n",
       "   'types': ['establishment', 'point_of_interest']}],\n",
       " 'routes': [{'bounds': {'northeast': {'lat': 40.80380540000001,\n",
       "     'lng': -73.9491763},\n",
       "    'southwest': {'lat': 40.8007012, 'lng': -73.9563204}},\n",
       "   'copyrights': 'Map data ©2020 Google',\n",
       "   'legs': [{'distance': {'text': '0.6 mi', 'value': 887},\n",
       "     'duration': {'text': '5 mins', 'value': 282},\n",
       "     'end_address': 'Lenox Ave & W 117 St, New York, NY 10026, USA',\n",
       "     'end_location': {'lat': 40.8026006, 'lng': -73.9491763},\n",
       "     'start_address': 'Frederick Douglass Blvd & W 115 St, New York, NY 10026, USA',\n",
       "     'start_location': {'lat': 40.80380540000001, 'lng': -73.9559747},\n",
       "     'steps': [{'distance': {'text': '36 ft', 'value': 11},\n",
       "       'duration': {'text': '1 min', 'value': 10},\n",
       "       'end_location': {'lat': 40.8037554, 'lng': -73.95585539999999},\n",
       "       'html_instructions': 'Head <b>southeast</b> on <b>W 115th St</b> toward <b>Frederick Douglass Blvd</b><div style=\"font-size:0.9em\">Walk your bicycle</div>',\n",
       "       'polyline': {'points': 'yn`xFxokbMHU'},\n",
       "       'start_location': {'lat': 40.80380540000001, 'lng': -73.9559747},\n",
       "       'travel_mode': 'BICYCLING'},\n",
       "      {'distance': {'text': '262 ft', 'value': 80},\n",
       "       'duration': {'text': '1 min', 'value': 55},\n",
       "       'end_location': {'lat': 40.803132, 'lng': -73.9563204},\n",
       "       'html_instructions': 'Turn <b>right</b> onto <b>Frederick Douglass Blvd</b>',\n",
       "       'maneuver': 'turn-right',\n",
       "       'polyline': {'points': 'on`xFbokbM|BzA'},\n",
       "       'start_location': {'lat': 40.8037554, 'lng': -73.95585539999999},\n",
       "       'travel_mode': 'BICYCLING'},\n",
       "      {'distance': {'text': '0.3 mi', 'value': 554},\n",
       "       'duration': {'text': '2 mins', 'value': 123},\n",
       "       'end_location': {'lat': 40.8007012, 'lng': -73.9505828},\n",
       "       'html_instructions': 'Turn <b>left</b> onto <b>W 114th St</b>',\n",
       "       'maneuver': 'turn-left',\n",
       "       'polyline': {'points': 'qj`xF~qkbMrCyI`@qA`@uAFSJSJ[fAgDzCuJHW'},\n",
       "       'start_location': {'lat': 40.803132, 'lng': -73.9563204},\n",
       "       'travel_mode': 'BICYCLING'},\n",
       "      {'distance': {'text': '0.2 mi', 'value': 242},\n",
       "       'duration': {'text': '2 mins', 'value': 94},\n",
       "       'end_location': {'lat': 40.8026006, 'lng': -73.9491763},\n",
       "       'html_instructions': 'Turn <b>left</b> onto <b>Lenox Ave</b>/<wbr/><b>Malcolm X Blvd</b><div style=\"font-size:0.9em\">Destination will be on the right</div>',\n",
       "       'maneuver': 'turn-left',\n",
       "       'polyline': {'points': 'k{_xFbnjbMKGEESOuA{@MI}@m@}@m@aAo@s@g@'},\n",
       "       'start_location': {'lat': 40.8007012, 'lng': -73.9505828},\n",
       "       'travel_mode': 'BICYCLING'}],\n",
       "     'traffic_speed_entry': [],\n",
       "     'via_waypoint': []}],\n",
       "   'overview_polyline': {'points': 'yn`xFxokbMHU|BzAtDkLh@iBVo@bF}OHWKGYUcBeAqFsD'},\n",
       "   'summary': 'W 114th St and Lenox Ave/Malcolm X Blvd',\n",
       "   'warnings': [\"Bicycling directions are in beta. Use caution – This route may contain streets that aren't suited for bicycling.\"],\n",
       "   'waypoint_order': []}],\n",
       " 'status': 'OK'}"
      ]
     },
     "execution_count": 4,
     "metadata": {},
     "output_type": "execute_result"
    }
   ],
   "source": [
    "target_url = f\"https://maps.googleapis.com/maps/api/directions/json?origin=40.8038654,-73.9559308&destination=40.8025566,-73.9490782&mode=bicycling&key={g_key}\"\n",
    "\n",
    "from_station = requests.get(target_url).json()\n",
    "from_station"
   ]
  },
  {
   "cell_type": "code",
   "execution_count": null,
   "metadata": {},
   "outputs": [],
   "source": []
  }
 ],
 "metadata": {
  "kernelspec": {
   "display_name": "Python 3",
   "language": "python",
   "name": "python3"
  },
  "language_info": {
   "codemirror_mode": {
    "name": "ipython",
    "version": 3
   },
   "file_extension": ".py",
   "mimetype": "text/x-python",
   "name": "python",
   "nbconvert_exporter": "python",
   "pygments_lexer": "ipython3",
   "version": "3.6.10"
  }
 },
 "nbformat": 4,
 "nbformat_minor": 4
}
