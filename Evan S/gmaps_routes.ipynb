{
 "cells": [
  {
   "cell_type": "code",
   "execution_count": 6,
   "metadata": {},
   "outputs": [],
   "source": [
    "import pandas as pd\n",
    "import gmaps\n",
    "import gmaps.datasets\n",
    "import requests\n",
    "\n",
    "from api_keys import g_key\n"
   ]
  },
  {
   "cell_type": "code",
   "execution_count": null,
   "metadata": {},
   "outputs": [],
   "source": []
  },
  {
   "cell_type": "code",
   "execution_count": 11,
   "metadata": {},
   "outputs": [
    {
     "data": {
      "text/plain": [
       "{'geocoded_waypoints': [{'geocoder_status': 'OK',\n",
       "   'place_id': 'ChIJXaoSOnxZwokRMA8Jh0gUHxI',\n",
       "   'types': ['bicycle_store', 'establishment', 'point_of_interest', 'store']},\n",
       "  {'geocoder_status': 'OK',\n",
       "   'place_id': 'ChIJXaoSOnxZwokRMA8Jh0gUHxI',\n",
       "   'types': ['bicycle_store', 'establishment', 'point_of_interest', 'store']}],\n",
       " 'routes': [{'bounds': {'northeast': {'lat': 40.7179121, 'lng': -73.9762353},\n",
       "    'southwest': {'lat': 40.7179121, 'lng': -73.9762353}},\n",
       "   'copyrights': 'Map data ©2020 Google',\n",
       "   'legs': [{'distance': {'text': '1 ft', 'value': 0},\n",
       "     'duration': {'text': '1 min', 'value': 0},\n",
       "     'end_address': 'Stanton St & Mangin St, New York, NY 10002, USA',\n",
       "     'end_location': {'lat': 40.7179121, 'lng': -73.9762353},\n",
       "     'start_address': 'Stanton St & Mangin St, New York, NY 10002, USA',\n",
       "     'start_location': {'lat': 40.7179121, 'lng': -73.9762353},\n",
       "     'steps': [{'distance': {'text': '1 ft', 'value': 0},\n",
       "       'duration': {'text': '1 min', 'value': 0},\n",
       "       'end_location': {'lat': 40.7179121, 'lng': -73.9762353},\n",
       "       'html_instructions': 'Head on <b>Stanton St</b><div style=\"font-size:0.9em\">Walk your bicycle</div>',\n",
       "       'polyline': {'points': '}uowFnnobM'},\n",
       "       'start_location': {'lat': 40.7179121, 'lng': -73.9762353},\n",
       "       'travel_mode': 'BICYCLING'}],\n",
       "     'traffic_speed_entry': [],\n",
       "     'via_waypoint': []}],\n",
       "   'overview_polyline': {'points': '}uowFnnobM'},\n",
       "   'summary': 'Stanton St',\n",
       "   'warnings': [\"Bicycling directions are in beta. Use caution – This route may contain streets that aren't suited for bicycling.\"],\n",
       "   'waypoint_order': []}],\n",
       " 'status': 'OK'}"
      ]
     },
     "execution_count": 11,
     "metadata": {},
     "output_type": "execute_result"
    }
   ],
   "source": [
    "target_url = f\"https://maps.googleapis.com/maps/api/directions/json?origin=40.71782143,-73.97628939&destination=40.71782143,-73.97628939&mode=bicycling&key={g_key}\"\n",
    "\n",
    "from_station = requests.get(target_url).json()\n",
    "from_station"
   ]
  },
  {
   "cell_type": "code",
   "execution_count": null,
   "metadata": {},
   "outputs": [],
   "source": []
  }
 ],
 "metadata": {
  "kernelspec": {
   "display_name": "Python 3",
   "language": "python",
   "name": "python3"
  },
  "language_info": {
   "codemirror_mode": {
    "name": "ipython",
    "version": 3
   },
   "file_extension": ".py",
   "mimetype": "text/x-python",
   "name": "python",
   "nbconvert_exporter": "python",
   "pygments_lexer": "ipython3",
   "version": "3.6.10"
  }
 },
 "nbformat": 4,
 "nbformat_minor": 4
}
