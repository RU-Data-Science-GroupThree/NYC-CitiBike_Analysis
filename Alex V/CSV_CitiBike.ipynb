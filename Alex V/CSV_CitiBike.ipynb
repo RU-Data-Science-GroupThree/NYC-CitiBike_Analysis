{
 "cells": [
  {
   "cell_type": "code",
   "execution_count": 126,
   "metadata": {},
   "outputs": [],
   "source": [
    "import csv\n",
    "import pandas as pd\n",
    "import matplotlib.pyplot as plt"
   ]
  },
  {
   "cell_type": "code",
   "execution_count": 2,
   "metadata": {},
   "outputs": [],
   "source": [
    "jan_19_csv = pd.read_csv(\"2019 Data/201901-citibike-tripdata.csv\")\n",
    "# jan_19_csv"
   ]
  },
  {
   "cell_type": "code",
   "execution_count": 3,
   "metadata": {},
   "outputs": [],
   "source": [
    "# Popular Start Station\n",
    "# station_df = jan_19_csv[\"start station name\"]\n",
    "# station_df_most = station_df.value_counts()\n",
    "# station_df_most.head(10)"
   ]
  },
  {
   "cell_type": "code",
   "execution_count": 4,
   "metadata": {},
   "outputs": [],
   "source": [
    "# Popular End Station\n",
    "# station_df_end = jan_19_csv[\"end station name\"]\n",
    "# station_df_most2 = station_df_end.value_counts()\n",
    "# station_df_most2.head(10)"
   ]
  },
  {
   "cell_type": "code",
   "execution_count": 5,
   "metadata": {},
   "outputs": [],
   "source": [
    "feb_19_csv = pd.read_csv(\"2019 Data/201902-citibike-tripdata.csv\")\n",
    "# feb_19_csv"
   ]
  },
  {
   "cell_type": "code",
   "execution_count": 6,
   "metadata": {},
   "outputs": [],
   "source": [
    "mar_19_csv = pd.read_csv(\"2019 Data/201903-citibike-tripdata.csv\")\n",
    "# mar_19_csv"
   ]
  },
  {
   "cell_type": "code",
   "execution_count": 7,
   "metadata": {},
   "outputs": [],
   "source": [
    "jan_feb_merge = pd.merge(jan_19_csv,feb_19_csv, how = \"outer\")"
   ]
  },
  {
   "cell_type": "code",
   "execution_count": 8,
   "metadata": {},
   "outputs": [],
   "source": [
    "quarter_01_2019 = pd.merge(jan_feb_merge, mar_19_csv, how = \"outer\")\n",
    "# quarter_01_2019"
   ]
  },
  {
   "cell_type": "code",
   "execution_count": 9,
   "metadata": {},
   "outputs": [],
   "source": [
    "april_2019_csv = pd.read_csv(\"2019 Data/201904-citibike-tripdata.csv\")\n",
    "may_2019_csv = pd.read_csv(\"2019 Data/201905-citibike-tripdata.csv\")\n",
    "june_2019_csv = pd.read_csv(\"2019 Data/201906-citibike-tripdata.csv\")"
   ]
  },
  {
   "cell_type": "code",
   "execution_count": 10,
   "metadata": {},
   "outputs": [],
   "source": [
    "april_may_merge = pd.merge (april_2019_csv,may_2019_csv, how = \"outer\")"
   ]
  },
  {
   "cell_type": "code",
   "execution_count": 11,
   "metadata": {},
   "outputs": [],
   "source": [
    "quarter_02_2019 = pd.merge(april_may_merge, june_2019_csv, how = \"outer\")"
   ]
  },
  {
   "cell_type": "code",
   "execution_count": 12,
   "metadata": {},
   "outputs": [],
   "source": [
    "july_2019_csv = pd.read_csv(\"2019 Data/201907-citibike-tripdata.csv\")\n",
    "august_2019_csv = pd.read_csv(\"2019 Data/201908-citibike-tripdata.csv\")\n",
    "september_2019_csv = pd.read_csv(\"2019 Data/201909-citibike-tripdata.csv\")"
   ]
  },
  {
   "cell_type": "code",
   "execution_count": 13,
   "metadata": {},
   "outputs": [],
   "source": [
    "july_august_merge = pd.merge(july_2019_csv,august_2019_csv, how = \"outer\")\n",
    "quarter_03_2019 = pd.merge(july_august_merge,september_2019_csv, how = \"outer\")"
   ]
  },
  {
   "cell_type": "code",
   "execution_count": 14,
   "metadata": {},
   "outputs": [],
   "source": [
    "october_2019_csv = pd.read_csv(\"2019 Data/201910-citibike-tripdata.csv\")\n",
    "november_2019_csv = pd.read_csv(\"2019 Data/201911-citibike-tripdata.csv\")\n",
    "december_2019_csv = pd.read_csv(\"2019 Data/201912-citibike-tripdata.csv\")"
   ]
  },
  {
   "cell_type": "code",
   "execution_count": 15,
   "metadata": {},
   "outputs": [],
   "source": [
    "october_november_merge = pd.merge(october_2019_csv,november_2019_csv, how = \"outer\")\n",
    "quarter_04_2019 = pd.merge(october_november_merge,december_2019_csv, how = \"outer\")"
   ]
  },
  {
   "cell_type": "code",
   "execution_count": 14,
   "metadata": {},
   "outputs": [
    {
     "name": "stdout",
     "output_type": "stream",
     "text": [
      "3238991\n",
      "5816027\n",
      "6970188\n",
      "4526491\n"
     ]
    }
   ],
   "source": [
    "# print(len(quarter_01_2019))\n",
    "# print(len(quarter_02_2019))\n",
    "# print(len(quarter_03_2019))\n",
    "# print(len(quarter_04_2019))"
   ]
  },
  {
   "cell_type": "code",
   "execution_count": 16,
   "metadata": {},
   "outputs": [],
   "source": [
    "H1_2019 = pd.merge(quarter_01_2019,quarter_02_2019, how = \"outer\")"
   ]
  },
  {
   "cell_type": "code",
   "execution_count": 17,
   "metadata": {},
   "outputs": [],
   "source": [
    "H2_2019 = pd.merge(quarter_03_2019,quarter_04_2019, how = \"outer\")"
   ]
  },
  {
   "cell_type": "code",
   "execution_count": null,
   "metadata": {},
   "outputs": [],
   "source": [
    "# full_2019_data = pd.merge(H1_2019,H2_2019, how = \"outer\")"
   ]
  },
  {
   "cell_type": "code",
   "execution_count": 17,
   "metadata": {},
   "outputs": [
    {
     "name": "stdout",
     "output_type": "stream",
     "text": [
      "20551697\n",
      "20551697\n"
     ]
    }
   ],
   "source": [
    "# print(len(quarter_01_2019)+len(quarter_02_2019)+len(quarter_03_2019)+len(quarter_04_2019))\n",
    "# print(len(H1_2019) + len(H2_2019))"
   ]
  },
  {
   "cell_type": "code",
   "execution_count": 18,
   "metadata": {},
   "outputs": [
    {
     "data": {
      "text/plain": [
       "Pershing Square North            70970\n",
       "8 Ave & W 31 St                  53950\n",
       "Broadway & E 22 St               53372\n",
       "E 17 St & Broadway               52673\n",
       "Broadway & E 14 St               50704\n",
       "Broadway & W 60 St               45800\n",
       "West St & Chambers St            45576\n",
       "W 21 St & 6 Ave                  44965\n",
       "W 20 St & 11 Ave                 43672\n",
       "Christopher St & Greenwich St    42904\n",
       "Name: start station name, dtype: int64"
      ]
     },
     "execution_count": 18,
     "metadata": {},
     "output_type": "execute_result"
    }
   ],
   "source": [
    "H1_station_start_df = H1_2019[\"start station name\"]\n",
    "H1_station_start_df_most = H1_station_start_df.value_counts()\n",
    "H1_station_start_df_most.head(10)"
   ]
  },
  {
   "cell_type": "code",
   "execution_count": 19,
   "metadata": {},
   "outputs": [
    {
     "data": {
      "text/plain": [
       "Pershing Square North    70861\n",
       "Broadway & E 22 St       56986\n",
       "8 Ave & W 31 St          54749\n",
       "E 17 St & Broadway       53448\n",
       "Broadway & E 14 St       51386\n",
       "West St & Chambers St    48842\n",
       "W 21 St & 6 Ave          45103\n",
       "W 20 St & 11 Ave         44630\n",
       "Broadway & W 60 St       43888\n",
       "12 Ave & W 40 St         43555\n",
       "Name: end station name, dtype: int64"
      ]
     },
     "execution_count": 19,
     "metadata": {},
     "output_type": "execute_result"
    }
   ],
   "source": [
    "H1_station_end_df = H1_2019[\"end station name\"]\n",
    "H1_station_end_df_most = H1_station_end_df.value_counts()\n",
    "H1_station_end_df_most.head(10)"
   ]
  },
  {
   "cell_type": "code",
   "execution_count": 20,
   "metadata": {},
   "outputs": [
    {
     "data": {
      "text/plain": [
       "Pershing Square North            85605\n",
       "E 17 St & Broadway               69108\n",
       "8 Ave & W 31 St                  66008\n",
       "W 21 St & 6 Ave                  65340\n",
       "Broadway & E 14 St               62308\n",
       "West St & Chambers St            60060\n",
       "Broadway & E 22 St               59766\n",
       "Christopher St & Greenwich St    58509\n",
       "Broadway & W 60 St               57367\n",
       "12 Ave & W 40 St                 56881\n",
       "Name: start station name, dtype: int64"
      ]
     },
     "execution_count": 20,
     "metadata": {},
     "output_type": "execute_result"
    }
   ],
   "source": [
    "H2_station_start_df = H2_2019[\"start station name\"]\n",
    "H2_station_start_df_most = H2_station_start_df.value_counts()\n",
    "H2_station_start_df_most.head(10)"
   ]
  },
  {
   "cell_type": "code",
   "execution_count": 21,
   "metadata": {},
   "outputs": [
    {
     "data": {
      "text/plain": [
       "Pershing Square North            84675\n",
       "E 17 St & Broadway               72018\n",
       "West St & Chambers St            67161\n",
       "8 Ave & W 31 St                  66882\n",
       "Broadway & E 22 St               66160\n",
       "W 21 St & 6 Ave                  65420\n",
       "Broadway & E 14 St               62792\n",
       "12 Ave & W 40 St                 60193\n",
       "Christopher St & Greenwich St    58644\n",
       "Broadway & W 60 St               56043\n",
       "Name: end station name, dtype: int64"
      ]
     },
     "execution_count": 21,
     "metadata": {},
     "output_type": "execute_result"
    }
   ],
   "source": [
    "H2_station_end_df = H2_2019[\"end station name\"]\n",
    "H2_station_end_df_most = H2_station_end_df.value_counts()\n",
    "H2_station_end_df_most.head(10)"
   ]
  },
  {
   "cell_type": "code",
   "execution_count": 284,
   "metadata": {},
   "outputs": [
    {
     "data": {
      "text/html": [
       "<div>\n",
       "<style scoped>\n",
       "    .dataframe tbody tr th:only-of-type {\n",
       "        vertical-align: middle;\n",
       "    }\n",
       "\n",
       "    .dataframe tbody tr th {\n",
       "        vertical-align: top;\n",
       "    }\n",
       "\n",
       "    .dataframe thead th {\n",
       "        text-align: right;\n",
       "    }\n",
       "</style>\n",
       "<table border=\"1\" class=\"dataframe\">\n",
       "  <thead>\n",
       "    <tr style=\"text-align: right;\">\n",
       "      <th></th>\n",
       "      <th>start station name</th>\n",
       "    </tr>\n",
       "  </thead>\n",
       "  <tbody>\n",
       "    <tr>\n",
       "      <td>Pershing Square North</td>\n",
       "      <td>156575.0</td>\n",
       "    </tr>\n",
       "    <tr>\n",
       "      <td>E 17 St &amp; Broadway</td>\n",
       "      <td>121781.0</td>\n",
       "    </tr>\n",
       "    <tr>\n",
       "      <td>8 Ave &amp; W 31 St</td>\n",
       "      <td>119958.0</td>\n",
       "    </tr>\n",
       "    <tr>\n",
       "      <td>Broadway &amp; E 22 St</td>\n",
       "      <td>113138.0</td>\n",
       "    </tr>\n",
       "    <tr>\n",
       "      <td>Broadway &amp; E 14 St</td>\n",
       "      <td>113012.0</td>\n",
       "    </tr>\n",
       "    <tr>\n",
       "      <td>W 21 St &amp; 6 Ave</td>\n",
       "      <td>110305.0</td>\n",
       "    </tr>\n",
       "    <tr>\n",
       "      <td>West St &amp; Chambers St</td>\n",
       "      <td>105636.0</td>\n",
       "    </tr>\n",
       "    <tr>\n",
       "      <td>Broadway &amp; W 60 St</td>\n",
       "      <td>103167.0</td>\n",
       "    </tr>\n",
       "    <tr>\n",
       "      <td>Christopher St &amp; Greenwich St</td>\n",
       "      <td>101413.0</td>\n",
       "    </tr>\n",
       "    <tr>\n",
       "      <td>12 Ave &amp; W 40 St</td>\n",
       "      <td>99300.0</td>\n",
       "    </tr>\n",
       "  </tbody>\n",
       "</table>\n",
       "</div>"
      ],
      "text/plain": [
       "                               start station name\n",
       "Pershing Square North                    156575.0\n",
       "E 17 St & Broadway                       121781.0\n",
       "8 Ave & W 31 St                          119958.0\n",
       "Broadway & E 22 St                       113138.0\n",
       "Broadway & E 14 St                       113012.0\n",
       "W 21 St & 6 Ave                          110305.0\n",
       "West St & Chambers St                    105636.0\n",
       "Broadway & W 60 St                       103167.0\n",
       "Christopher St & Greenwich St            101413.0\n",
       "12 Ave & W 40 St                          99300.0"
      ]
     },
     "execution_count": 284,
     "metadata": {},
     "output_type": "execute_result"
    }
   ],
   "source": [
    "# Finding the most popular station where people start their trips from in 2019\n",
    "start_station_2019 = H1_station_start_df_most + H2_station_start_df_most\n",
    "start_station_2019_df = pd.DataFrame(start_station_2019)\n",
    "# test_df\n",
    "sort_start_station_2019_df = start_station_2019_df.sort_values(by = \"start station name\", ascending = False)\n",
    "top_10_start_station = sort_start_station_2019_df.head(10)\n",
    "top_10_start_station"
   ]
  },
  {
   "cell_type": "code",
   "execution_count": 68,
   "metadata": {},
   "outputs": [
    {
     "data": {
      "text/html": [
       "<div>\n",
       "<style scoped>\n",
       "    .dataframe tbody tr th:only-of-type {\n",
       "        vertical-align: middle;\n",
       "    }\n",
       "\n",
       "    .dataframe tbody tr th {\n",
       "        vertical-align: top;\n",
       "    }\n",
       "\n",
       "    .dataframe thead th {\n",
       "        text-align: right;\n",
       "    }\n",
       "</style>\n",
       "<table border=\"1\" class=\"dataframe\">\n",
       "  <thead>\n",
       "    <tr style=\"text-align: right;\">\n",
       "      <th></th>\n",
       "      <th>end station name</th>\n",
       "    </tr>\n",
       "  </thead>\n",
       "  <tbody>\n",
       "    <tr>\n",
       "      <td>Pershing Square North</td>\n",
       "      <td>155536.0</td>\n",
       "    </tr>\n",
       "    <tr>\n",
       "      <td>E 17 St &amp; Broadway</td>\n",
       "      <td>125466.0</td>\n",
       "    </tr>\n",
       "    <tr>\n",
       "      <td>Broadway &amp; E 22 St</td>\n",
       "      <td>123146.0</td>\n",
       "    </tr>\n",
       "    <tr>\n",
       "      <td>8 Ave &amp; W 31 St</td>\n",
       "      <td>121631.0</td>\n",
       "    </tr>\n",
       "    <tr>\n",
       "      <td>West St &amp; Chambers St</td>\n",
       "      <td>116003.0</td>\n",
       "    </tr>\n",
       "    <tr>\n",
       "      <td>Broadway &amp; E 14 St</td>\n",
       "      <td>114178.0</td>\n",
       "    </tr>\n",
       "    <tr>\n",
       "      <td>W 21 St &amp; 6 Ave</td>\n",
       "      <td>110523.0</td>\n",
       "    </tr>\n",
       "    <tr>\n",
       "      <td>12 Ave &amp; W 40 St</td>\n",
       "      <td>103748.0</td>\n",
       "    </tr>\n",
       "    <tr>\n",
       "      <td>Christopher St &amp; Greenwich St</td>\n",
       "      <td>101823.0</td>\n",
       "    </tr>\n",
       "    <tr>\n",
       "      <td>Broadway &amp; W 60 St</td>\n",
       "      <td>99931.0</td>\n",
       "    </tr>\n",
       "  </tbody>\n",
       "</table>\n",
       "</div>"
      ],
      "text/plain": [
       "                               end station name\n",
       "Pershing Square North                  155536.0\n",
       "E 17 St & Broadway                     125466.0\n",
       "Broadway & E 22 St                     123146.0\n",
       "8 Ave & W 31 St                        121631.0\n",
       "West St & Chambers St                  116003.0\n",
       "Broadway & E 14 St                     114178.0\n",
       "W 21 St & 6 Ave                        110523.0\n",
       "12 Ave & W 40 St                       103748.0\n",
       "Christopher St & Greenwich St          101823.0\n",
       "Broadway & W 60 St                      99931.0"
      ]
     },
     "execution_count": 68,
     "metadata": {},
     "output_type": "execute_result"
    }
   ],
   "source": [
    "end_station_2019 = H1_station_end_df_most + H2_station_end_df_most\n",
    "end_station_2019_df = pd.DataFrame(end_station_2019)\n",
    "sort_end_station_2019_df = end_station_2019_df.sort_values(by = \"end station name\", ascending = False)\n",
    "top_10_end_station = sort_end_station_2019_df.head(10)\n",
    "top_10_end_station"
   ]
  },
  {
   "cell_type": "code",
   "execution_count": 62,
   "metadata": {},
   "outputs": [
    {
     "name": "stdout",
     "output_type": "stream",
     "text": [
      "(40.751872999999996, -73.97770600000001)\n",
      "(40.73704984, -73.99009296)\n",
      "(40.740343200000005, -73.98955109)\n",
      "(40.7505853470215, -73.9946848154068)\n",
      "(40.71754834, -74.01322069)\n",
      "(40.73454567, -73.99074142)\n",
      "(40.74173969, -73.99415556)\n",
      "(40.76087502, -74.00277668)\n",
      "(40.73291553, -74.00711384)\n",
      "(40.76915505, -73.98191841)\n"
     ]
    }
   ],
   "source": [
    "# finding coordinates of particular stations\n",
    "\n",
    "pershing_lat = jan_19_csv.loc[jan_19_csv[\"start station name\"] == \"Pershing Square North\", \"start station latitude\"].unique()\n",
    "pershing_lng = jan_19_csv.loc[jan_19_csv[\"start station name\"] == \"Pershing Square North\", \"start station longitude\"].unique()\n",
    "pershing_coord = (pershing_lat[0], pershing_lng[0])\n",
    "print(pershing_coord)\n",
    "\n",
    "e_17_lat = jan_19_csv.loc[jan_19_csv[\"start station name\"] == \"E 17 St & Broadway\", \"start station latitude\"].unique()\n",
    "e_17_lng = jan_19_csv.loc[jan_19_csv[\"start station name\"] == \"E 17 St & Broadway\", \"start station longitude\"].unique()\n",
    "e_17_coord = (e_17_lat[0], e_17_lng[0])\n",
    "print(e_17_coord)\n",
    "\n",
    "broad_e22_lat = jan_19_csv.loc[jan_19_csv[\"start station name\"] == \"Broadway & E 22 St\", \"start station latitude\"].unique()\n",
    "broad_e22_lng = jan_19_csv.loc[jan_19_csv[\"start station name\"] == \"Broadway & E 22 St\", \"start station longitude\"].unique()\n",
    "broad_e22_coord = (broad_e22_lat[0], broad_e22_lng[0])\n",
    "print(broad_e22_coord)\n",
    "\n",
    "eighth_w31_lat = jan_19_csv.loc[jan_19_csv[\"start station name\"] == \"8 Ave & W 31 St\", \"start station latitude\"].unique()\n",
    "eighth_w31_lng = jan_19_csv.loc[jan_19_csv[\"start station name\"] == \"8 Ave & W 31 St\", \"start station longitude\"].unique()\n",
    "eighth_w31_coord = (eighth_w31_lat[0], eighth_w31_lng[0])\n",
    "print(eighth_w31_coord)\n",
    "\n",
    "west_chambers_lat = jan_19_csv.loc[jan_19_csv[\"start station name\"] == \"West St & Chambers St\", \"start station latitude\"].unique()\n",
    "west_chambers_lng = jan_19_csv.loc[jan_19_csv[\"start station name\"] == \"West St & Chambers St\", \"start station longitude\"].unique()\n",
    "west_chambers_coord = (west_chambers_lat[0], west_chambers_lng[0])\n",
    "print(west_chambers_coord)\n",
    "\n",
    "broad_e14_lat = jan_19_csv.loc[jan_19_csv[\"start station name\"] == \"Broadway & E 14 St\", \"start station latitude\"].unique()\n",
    "broad_e14_lng = jan_19_csv.loc[jan_19_csv[\"start station name\"] == \"Broadway & E 14 St\", \"start station longitude\"].unique()\n",
    "broad_e14_coord = (broad_e14_lat[0], broad_e14_lng[0])\n",
    "print(broad_e14_coord)\n",
    "\n",
    "w21_6_ave_lat = jan_19_csv.loc[jan_19_csv[\"start station name\"] == \"W 21 St & 6 Ave\", \"start station latitude\"].unique()\n",
    "w21_6_ave_lng = jan_19_csv.loc[jan_19_csv[\"start station name\"] == \"W 21 St & 6 Ave\", \"start station longitude\"].unique()\n",
    "w21_6_ave_coord = (w21_6_ave_lat[0], w21_6_ave_lng[0])\n",
    "print(w21_6_ave_coord)\n",
    "\n",
    "ave12_w40_lat = jan_19_csv.loc[jan_19_csv[\"start station name\"] == \"12 Ave & W 40 St\", \"start station latitude\"].unique()\n",
    "ave12_w40_lng = jan_19_csv.loc[jan_19_csv[\"start station name\"] == \"12 Ave & W 40 St\", \"start station longitude\"].unique()\n",
    "ave12_w40_coord = (ave12_w40_lat[0], ave12_w40_lng[0])\n",
    "print(ave12_w40_coord)\n",
    "\n",
    "chris_greenwich_lat = jan_19_csv.loc[jan_19_csv[\"start station name\"] == \"Christopher St & Greenwich St\", \"start station latitude\"].unique()\n",
    "chris_greenwich_lng = jan_19_csv.loc[jan_19_csv[\"start station name\"] == \"Christopher St & Greenwich St\", \"start station longitude\"].unique()\n",
    "chris_greenwich_coord = (chris_greenwich_lat[0], chris_greenwich_lng[0])\n",
    "print(chris_greenwich_coord)\n",
    "\n",
    "broad_w60_lat = jan_19_csv.loc[jan_19_csv[\"start station name\"] == \"Broadway & W 60 St\", \"start station latitude\"].unique()\n",
    "broad_w60_lng = jan_19_csv.loc[jan_19_csv[\"start station name\"] == \"Broadway & W 60 St\", \"start station longitude\"].unique()\n",
    "broad_w60_coord = (broad_w60_lat[0], broad_w60_lng[0])\n",
    "print(broad_w60_coord)"
   ]
  },
  {
   "cell_type": "code",
   "execution_count": 285,
   "metadata": {},
   "outputs": [
    {
     "data": {
      "text/plain": [
       "[40.751872999999996,\n",
       " 40.73704984,\n",
       " 40.7505853470215,\n",
       " 40.740343200000005,\n",
       " 40.73454567,\n",
       " 40.74173969,\n",
       " 40.71754834,\n",
       " 40.76915505,\n",
       " 40.73291553,\n",
       " 40.76087502]"
      ]
     },
     "execution_count": 285,
     "metadata": {},
     "output_type": "execute_result"
    }
   ],
   "source": [
    "start_stations_lat = [pershing_lat[0],e_17_lat[0],eighth_w31_lat[0],broad_e22_lat[0],broad_e14_lat[0],w21_6_ave_lat[0],\n",
    "                      west_chambers_lat[0],broad_w60_lat[0],chris_greenwich_lat[0],ave12_w40_lat[0]]\n",
    "start_stations_lat"
   ]
  },
  {
   "cell_type": "code",
   "execution_count": 286,
   "metadata": {},
   "outputs": [
    {
     "data": {
      "text/plain": [
       "[-73.97770600000001,\n",
       " -73.99009296,\n",
       " -73.9946848154068,\n",
       " -73.98955109,\n",
       " -73.99074142,\n",
       " -73.99415556,\n",
       " -74.01322069,\n",
       " -73.98191841,\n",
       " -74.00711384,\n",
       " -74.00277668]"
      ]
     },
     "execution_count": 286,
     "metadata": {},
     "output_type": "execute_result"
    }
   ],
   "source": [
    "start_stations_lng = [pershing_lng[0],e_17_lng[0],eighth_w31_lng[0],broad_e22_lng[0],broad_e14_lng[0],w21_6_ave_lng[0],\n",
    "                      west_chambers_lng[0],broad_w60_lng[0],chris_greenwich_lng[0],ave12_w40_lng[0]]\n",
    "start_stations_lng"
   ]
  },
  {
   "cell_type": "code",
   "execution_count": 287,
   "metadata": {},
   "outputs": [
    {
     "name": "stderr",
     "output_type": "stream",
     "text": [
      "C:\\Users\\alexv\\AppData\\Local\\Continuum\\anaconda3\\lib\\site-packages\\ipykernel_launcher.py:1: SettingWithCopyWarning: \n",
      "A value is trying to be set on a copy of a slice from a DataFrame.\n",
      "Try using .loc[row_indexer,col_indexer] = value instead\n",
      "\n",
      "See the caveats in the documentation: http://pandas.pydata.org/pandas-docs/stable/user_guide/indexing.html#returning-a-view-versus-a-copy\n",
      "  \"\"\"Entry point for launching an IPython kernel.\n",
      "C:\\Users\\alexv\\AppData\\Local\\Continuum\\anaconda3\\lib\\site-packages\\ipykernel_launcher.py:2: SettingWithCopyWarning: \n",
      "A value is trying to be set on a copy of a slice from a DataFrame.\n",
      "Try using .loc[row_indexer,col_indexer] = value instead\n",
      "\n",
      "See the caveats in the documentation: http://pandas.pydata.org/pandas-docs/stable/user_guide/indexing.html#returning-a-view-versus-a-copy\n",
      "  \n"
     ]
    }
   ],
   "source": [
    "top_10_start_station[\"Latitude\"] = start_stations_lat\n",
    "top_10_start_station[\"Longitude\"] = start_stations_lng\n"
   ]
  },
  {
   "cell_type": "code",
   "execution_count": 288,
   "metadata": {},
   "outputs": [
    {
     "data": {
      "text/html": [
       "<div>\n",
       "<style scoped>\n",
       "    .dataframe tbody tr th:only-of-type {\n",
       "        vertical-align: middle;\n",
       "    }\n",
       "\n",
       "    .dataframe tbody tr th {\n",
       "        vertical-align: top;\n",
       "    }\n",
       "\n",
       "    .dataframe thead th {\n",
       "        text-align: right;\n",
       "    }\n",
       "</style>\n",
       "<table border=\"1\" class=\"dataframe\">\n",
       "  <thead>\n",
       "    <tr style=\"text-align: right;\">\n",
       "      <th></th>\n",
       "      <th>Number of Trips</th>\n",
       "      <th>Latitude</th>\n",
       "      <th>Longitude</th>\n",
       "    </tr>\n",
       "  </thead>\n",
       "  <tbody>\n",
       "    <tr>\n",
       "      <td>Pershing Square North</td>\n",
       "      <td>156575.0</td>\n",
       "      <td>40.751873</td>\n",
       "      <td>-73.977706</td>\n",
       "    </tr>\n",
       "    <tr>\n",
       "      <td>E 17 St &amp; Broadway</td>\n",
       "      <td>121781.0</td>\n",
       "      <td>40.737050</td>\n",
       "      <td>-73.990093</td>\n",
       "    </tr>\n",
       "    <tr>\n",
       "      <td>8 Ave &amp; W 31 St</td>\n",
       "      <td>119958.0</td>\n",
       "      <td>40.750585</td>\n",
       "      <td>-73.994685</td>\n",
       "    </tr>\n",
       "    <tr>\n",
       "      <td>Broadway &amp; E 22 St</td>\n",
       "      <td>113138.0</td>\n",
       "      <td>40.740343</td>\n",
       "      <td>-73.989551</td>\n",
       "    </tr>\n",
       "    <tr>\n",
       "      <td>Broadway &amp; E 14 St</td>\n",
       "      <td>113012.0</td>\n",
       "      <td>40.734546</td>\n",
       "      <td>-73.990741</td>\n",
       "    </tr>\n",
       "    <tr>\n",
       "      <td>W 21 St &amp; 6 Ave</td>\n",
       "      <td>110305.0</td>\n",
       "      <td>40.741740</td>\n",
       "      <td>-73.994156</td>\n",
       "    </tr>\n",
       "    <tr>\n",
       "      <td>West St &amp; Chambers St</td>\n",
       "      <td>105636.0</td>\n",
       "      <td>40.717548</td>\n",
       "      <td>-74.013221</td>\n",
       "    </tr>\n",
       "    <tr>\n",
       "      <td>Broadway &amp; W 60 St</td>\n",
       "      <td>103167.0</td>\n",
       "      <td>40.769155</td>\n",
       "      <td>-73.981918</td>\n",
       "    </tr>\n",
       "    <tr>\n",
       "      <td>Christopher St &amp; Greenwich St</td>\n",
       "      <td>101413.0</td>\n",
       "      <td>40.732916</td>\n",
       "      <td>-74.007114</td>\n",
       "    </tr>\n",
       "    <tr>\n",
       "      <td>12 Ave &amp; W 40 St</td>\n",
       "      <td>99300.0</td>\n",
       "      <td>40.760875</td>\n",
       "      <td>-74.002777</td>\n",
       "    </tr>\n",
       "  </tbody>\n",
       "</table>\n",
       "</div>"
      ],
      "text/plain": [
       "                               Number of Trips   Latitude  Longitude\n",
       "Pershing Square North                 156575.0  40.751873 -73.977706\n",
       "E 17 St & Broadway                    121781.0  40.737050 -73.990093\n",
       "8 Ave & W 31 St                       119958.0  40.750585 -73.994685\n",
       "Broadway & E 22 St                    113138.0  40.740343 -73.989551\n",
       "Broadway & E 14 St                    113012.0  40.734546 -73.990741\n",
       "W 21 St & 6 Ave                       110305.0  40.741740 -73.994156\n",
       "West St & Chambers St                 105636.0  40.717548 -74.013221\n",
       "Broadway & W 60 St                    103167.0  40.769155 -73.981918\n",
       "Christopher St & Greenwich St         101413.0  40.732916 -74.007114\n",
       "12 Ave & W 40 St                       99300.0  40.760875 -74.002777"
      ]
     },
     "execution_count": 288,
     "metadata": {},
     "output_type": "execute_result"
    }
   ],
   "source": [
    "top_10_start_station.rename(columns = {\"start station name\":\"Number of Trips\"}, inplace = True)\n",
    "top_10_start_station"
   ]
  },
  {
   "cell_type": "code",
   "execution_count": 103,
   "metadata": {},
   "outputs": [],
   "source": [
    "end_stations_lat = [pershing_lat[0],e_17_lat[0],broad_e22_lat[0],eighth_w31_lat[0],west_chambers_lat[0],\n",
    "                   broad_e14_lat[0],w21_6_ave_lat[0],ave12_w40_lat[0],chris_greenwich_lat[0],broad_w60_lat[0]]\n",
    "end_stations_lng = [pershing_lng[0],e_17_lng[0],broad_e22_lng[0],eighth_w31_lng[0],west_chambers_lng[0],\n",
    "                   broad_e14_lng[0],w21_6_ave_lng[0],ave12_w40_lng[0],chris_greenwich_lng[0],broad_w60_lng[0]]"
   ]
  },
  {
   "cell_type": "code",
   "execution_count": 107,
   "metadata": {},
   "outputs": [
    {
     "name": "stderr",
     "output_type": "stream",
     "text": [
      "C:\\Users\\alexv\\AppData\\Local\\Continuum\\anaconda3\\lib\\site-packages\\ipykernel_launcher.py:1: SettingWithCopyWarning: \n",
      "A value is trying to be set on a copy of a slice from a DataFrame.\n",
      "Try using .loc[row_indexer,col_indexer] = value instead\n",
      "\n",
      "See the caveats in the documentation: http://pandas.pydata.org/pandas-docs/stable/user_guide/indexing.html#returning-a-view-versus-a-copy\n",
      "  \"\"\"Entry point for launching an IPython kernel.\n",
      "C:\\Users\\alexv\\AppData\\Local\\Continuum\\anaconda3\\lib\\site-packages\\ipykernel_launcher.py:2: SettingWithCopyWarning: \n",
      "A value is trying to be set on a copy of a slice from a DataFrame.\n",
      "Try using .loc[row_indexer,col_indexer] = value instead\n",
      "\n",
      "See the caveats in the documentation: http://pandas.pydata.org/pandas-docs/stable/user_guide/indexing.html#returning-a-view-versus-a-copy\n",
      "  \n"
     ]
    },
    {
     "data": {
      "text/html": [
       "<div>\n",
       "<style scoped>\n",
       "    .dataframe tbody tr th:only-of-type {\n",
       "        vertical-align: middle;\n",
       "    }\n",
       "\n",
       "    .dataframe tbody tr th {\n",
       "        vertical-align: top;\n",
       "    }\n",
       "\n",
       "    .dataframe thead th {\n",
       "        text-align: right;\n",
       "    }\n",
       "</style>\n",
       "<table border=\"1\" class=\"dataframe\">\n",
       "  <thead>\n",
       "    <tr style=\"text-align: right;\">\n",
       "      <th></th>\n",
       "      <th>Number of Trips</th>\n",
       "      <th>Latitude</th>\n",
       "      <th>Longitude</th>\n",
       "    </tr>\n",
       "  </thead>\n",
       "  <tbody>\n",
       "    <tr>\n",
       "      <td>Pershing Square North</td>\n",
       "      <td>155536.0</td>\n",
       "      <td>40.751873</td>\n",
       "      <td>-73.977706</td>\n",
       "    </tr>\n",
       "    <tr>\n",
       "      <td>E 17 St &amp; Broadway</td>\n",
       "      <td>125466.0</td>\n",
       "      <td>40.737050</td>\n",
       "      <td>-73.990093</td>\n",
       "    </tr>\n",
       "    <tr>\n",
       "      <td>Broadway &amp; E 22 St</td>\n",
       "      <td>123146.0</td>\n",
       "      <td>40.740343</td>\n",
       "      <td>-73.989551</td>\n",
       "    </tr>\n",
       "    <tr>\n",
       "      <td>8 Ave &amp; W 31 St</td>\n",
       "      <td>121631.0</td>\n",
       "      <td>40.750585</td>\n",
       "      <td>-73.994685</td>\n",
       "    </tr>\n",
       "    <tr>\n",
       "      <td>West St &amp; Chambers St</td>\n",
       "      <td>116003.0</td>\n",
       "      <td>40.717548</td>\n",
       "      <td>-74.013221</td>\n",
       "    </tr>\n",
       "    <tr>\n",
       "      <td>Broadway &amp; E 14 St</td>\n",
       "      <td>114178.0</td>\n",
       "      <td>40.734546</td>\n",
       "      <td>-73.990741</td>\n",
       "    </tr>\n",
       "    <tr>\n",
       "      <td>W 21 St &amp; 6 Ave</td>\n",
       "      <td>110523.0</td>\n",
       "      <td>40.741740</td>\n",
       "      <td>-73.994156</td>\n",
       "    </tr>\n",
       "    <tr>\n",
       "      <td>12 Ave &amp; W 40 St</td>\n",
       "      <td>103748.0</td>\n",
       "      <td>40.760875</td>\n",
       "      <td>-74.002777</td>\n",
       "    </tr>\n",
       "    <tr>\n",
       "      <td>Christopher St &amp; Greenwich St</td>\n",
       "      <td>101823.0</td>\n",
       "      <td>40.732916</td>\n",
       "      <td>-74.007114</td>\n",
       "    </tr>\n",
       "    <tr>\n",
       "      <td>Broadway &amp; W 60 St</td>\n",
       "      <td>99931.0</td>\n",
       "      <td>40.769155</td>\n",
       "      <td>-73.981918</td>\n",
       "    </tr>\n",
       "  </tbody>\n",
       "</table>\n",
       "</div>"
      ],
      "text/plain": [
       "                               Number of Trips   Latitude  Longitude\n",
       "Pershing Square North                 155536.0  40.751873 -73.977706\n",
       "E 17 St & Broadway                    125466.0  40.737050 -73.990093\n",
       "Broadway & E 22 St                    123146.0  40.740343 -73.989551\n",
       "8 Ave & W 31 St                       121631.0  40.750585 -73.994685\n",
       "West St & Chambers St                 116003.0  40.717548 -74.013221\n",
       "Broadway & E 14 St                    114178.0  40.734546 -73.990741\n",
       "W 21 St & 6 Ave                       110523.0  40.741740 -73.994156\n",
       "12 Ave & W 40 St                      103748.0  40.760875 -74.002777\n",
       "Christopher St & Greenwich St         101823.0  40.732916 -74.007114\n",
       "Broadway & W 60 St                     99931.0  40.769155 -73.981918"
      ]
     },
     "execution_count": 107,
     "metadata": {},
     "output_type": "execute_result"
    }
   ],
   "source": [
    "top_10_end_station[\"Latitude\"] = end_stations_lat\n",
    "top_10_end_station[\"Longitude\"] = end_stations_lng\n",
    "top_10_end_station.rename(columns = {\"end station name\":\"Number of Trips\"}, inplace = True)\n",
    "top_10_end_station"
   ]
  },
  {
   "cell_type": "code",
   "execution_count": 146,
   "metadata": {},
   "outputs": [
    {
     "data": {
      "text/plain": [
       "Text(0, 0.5, 'Total Number of Rides')"
      ]
     },
     "execution_count": 146,
     "metadata": {},
     "output_type": "execute_result"
    },
    {
     "data": {
      "image/png": "[encoded data removed]",
      "text/plain": [
       "<Figure size 432x288 with 1 Axes>"
      ]
     },
     "metadata": {
      "needs_background": "light"
     },
     "output_type": "display_data"
    }
   ],
   "source": [
    "plt.bar(top_10_start_station[\"Number of Trips\"].index,top_10_start_station[\"Number of Trips\"].values, width = 0.5)\n",
    "plt.xticks(rotation = 90)\n",
    "plt.title(\"10 Most Popular Starting Stations for Citi Bikes (2019)\")\n",
    "plt.ylabel(\"Total Number of Rides\")"
   ]
  },
  {
   "cell_type": "code",
   "execution_count": 147,
   "metadata": {},
   "outputs": [
    {
     "data": {
      "text/plain": [
       "Text(0, 0.5, 'Total Number of Rides')"
      ]
     },
     "execution_count": 147,
     "metadata": {},
     "output_type": "execute_result"
    },
    {
     "data": {
      "image/png": "[encoded data removed]",
      "text/plain": [
       "<Figure size 432x288 with 1 Axes>"
      ]
     },
     "metadata": {
      "needs_background": "light"
     },
     "output_type": "display_data"
    }
   ],
   "source": [
    "plt.bar(top_10_end_station[\"Number of Trips\"].index,top_10_end_station[\"Number of Trips\"].values, width = 0.5)\n",
    "plt.xticks(rotation = 90)\n",
    "plt.title(\"10 Most Popular Docking Stations for Citi Bikes (2019)\")\n",
    "plt.ylabel(\"Total Number of Rides\")"
   ]
  },
  {
   "cell_type": "code",
   "execution_count": 148,
   "metadata": {},
   "outputs": [],
   "source": [
    "import gmaps"
   ]
  },
  {
   "cell_type": "code",
   "execution_count": 267,
   "metadata": {},
   "outputs": [
    {
     "data": {
      "application/vnd.jupyter.widget-view+json": {
       "model_id": "8cddc5ee0eba48349b7b630cb586507a",
       "version_major": 2,
       "version_minor": 0
      },
      "text/plain": [
       "Figure(layout=FigureLayout(height='420px'))"
      ]
     },
     "metadata": {},
     "output_type": "display_data"
    }
   ],
   "source": [
    "fig = gmaps.figure(center = (40.75,-74), zoom_level = 12.75)\n",
    "info_box_template = \"\"\"\n",
    "<dl>\n",
    "<dt>Coordinates</dt><dd>{Latitude},{Longitude}</dd>\n",
    "\"\"\"\n",
    "# Store the DataFrame Row\n",
    "station_name = [info_box_template.format(**row) for index, row in top_10_start_station.iterrows()]\n",
    "start_locations = top_10_start_station[[\"Latitude\", \"Longitude\"]]\n",
    "markers = gmaps.marker_layer(start_locations, info_box_content = station_name)\n",
    "# markers = gmaps.marker_layer(hotel_coordinates, info_box_content = hotel_info)\n",
    "fig.add_layer(markers)\n",
    "fig"
   ]
  },
  {
   "cell_type": "code",
   "execution_count": 250,
   "metadata": {},
   "outputs": [],
   "source": [
    "# top_10_start_station.rename(columns = {\"\":\"Station Name\"}, inplace = True)\n",
    "gmaps.marker_layer?"
   ]
  },
  {
   "cell_type": "code",
   "execution_count": 255,
   "metadata": {},
   "outputs": [
    {
     "name": "stdout",
     "output_type": "stream",
     "text": [
      "Pershing Square North\n",
      "E 17 St & Broadway\n",
      "8 Ave & W 31 St\n",
      "Broadway & E 22 St\n",
      "Broadway & E 14 St\n",
      "W 21 St & 6 Ave\n",
      "West St & Chambers St\n",
      "Broadway & W 60 St\n",
      "Christopher St & Greenwich St\n",
      "12 Ave & W 40 St\n"
     ]
    }
   ],
   "source": [
    "for index, row in top_10_start_station.iterrows():\n",
    "    print(index)"
   ]
  },
  {
   "cell_type": "code",
   "execution_count": 260,
   "metadata": {},
   "outputs": [
    {
     "data": {
      "text/html": [
       "<div>\n",
       "<style scoped>\n",
       "    .dataframe tbody tr th:only-of-type {\n",
       "        vertical-align: middle;\n",
       "    }\n",
       "\n",
       "    .dataframe tbody tr th {\n",
       "        vertical-align: top;\n",
       "    }\n",
       "\n",
       "    .dataframe thead th {\n",
       "        text-align: right;\n",
       "    }\n",
       "</style>\n",
       "<table border=\"1\" class=\"dataframe\">\n",
       "  <thead>\n",
       "    <tr style=\"text-align: right;\">\n",
       "      <th>Name</th>\n",
       "      <th>Number of Trips</th>\n",
       "      <th>Latitude</th>\n",
       "      <th>Longitude</th>\n",
       "    </tr>\n",
       "  </thead>\n",
       "  <tbody>\n",
       "    <tr>\n",
       "      <td>Pershing Square North</td>\n",
       "      <td>156575.0</td>\n",
       "      <td>40.751873</td>\n",
       "      <td>-73.977706</td>\n",
       "    </tr>\n",
       "    <tr>\n",
       "      <td>E 17 St &amp; Broadway</td>\n",
       "      <td>121781.0</td>\n",
       "      <td>40.737050</td>\n",
       "      <td>-73.990093</td>\n",
       "    </tr>\n",
       "    <tr>\n",
       "      <td>8 Ave &amp; W 31 St</td>\n",
       "      <td>119958.0</td>\n",
       "      <td>40.750585</td>\n",
       "      <td>-73.994685</td>\n",
       "    </tr>\n",
       "    <tr>\n",
       "      <td>Broadway &amp; E 22 St</td>\n",
       "      <td>113138.0</td>\n",
       "      <td>40.740343</td>\n",
       "      <td>-73.989551</td>\n",
       "    </tr>\n",
       "    <tr>\n",
       "      <td>Broadway &amp; E 14 St</td>\n",
       "      <td>113012.0</td>\n",
       "      <td>40.734546</td>\n",
       "      <td>-73.990741</td>\n",
       "    </tr>\n",
       "    <tr>\n",
       "      <td>W 21 St &amp; 6 Ave</td>\n",
       "      <td>110305.0</td>\n",
       "      <td>40.741740</td>\n",
       "      <td>-73.994156</td>\n",
       "    </tr>\n",
       "    <tr>\n",
       "      <td>West St &amp; Chambers St</td>\n",
       "      <td>105636.0</td>\n",
       "      <td>40.760875</td>\n",
       "      <td>-74.002777</td>\n",
       "    </tr>\n",
       "    <tr>\n",
       "      <td>Broadway &amp; W 60 St</td>\n",
       "      <td>103167.0</td>\n",
       "      <td>40.732916</td>\n",
       "      <td>-74.007114</td>\n",
       "    </tr>\n",
       "    <tr>\n",
       "      <td>Christopher St &amp; Greenwich St</td>\n",
       "      <td>101413.0</td>\n",
       "      <td>40.769155</td>\n",
       "      <td>-73.981918</td>\n",
       "    </tr>\n",
       "    <tr>\n",
       "      <td>12 Ave &amp; W 40 St</td>\n",
       "      <td>99300.0</td>\n",
       "      <td>40.760875</td>\n",
       "      <td>-74.002777</td>\n",
       "    </tr>\n",
       "  </tbody>\n",
       "</table>\n",
       "</div>"
      ],
      "text/plain": [
       "Name                           Number of Trips   Latitude  Longitude\n",
       "Pershing Square North                 156575.0  40.751873 -73.977706\n",
       "E 17 St & Broadway                    121781.0  40.737050 -73.990093\n",
       "8 Ave & W 31 St                       119958.0  40.750585 -73.994685\n",
       "Broadway & E 22 St                    113138.0  40.740343 -73.989551\n",
       "Broadway & E 14 St                    113012.0  40.734546 -73.990741\n",
       "W 21 St & 6 Ave                       110305.0  40.741740 -73.994156\n",
       "West St & Chambers St                 105636.0  40.760875 -74.002777\n",
       "Broadway & W 60 St                    103167.0  40.732916 -74.007114\n",
       "Christopher St & Greenwich St         101413.0  40.769155 -73.981918\n",
       "12 Ave & W 40 St                       99300.0  40.760875 -74.002777"
      ]
     },
     "execution_count": 260,
     "metadata": {},
     "output_type": "execute_result"
    }
   ],
   "source": [
    "top_10_start_station.rename_axis(\"Name\", axis=\"columns\")"
   ]
  },
  {
   "cell_type": "code",
   "execution_count": 293,
   "metadata": {},
   "outputs": [
    {
     "data": {
      "application/vnd.jupyter.widget-view+json": {
       "model_id": "dea8126bf7c74c39a777b779525dc834",
       "version_major": 2,
       "version_minor": 0
      },
      "text/plain": [
       "Figure(layout=FigureLayout(height='420px'))"
      ]
     },
     "metadata": {},
     "output_type": "display_data"
    }
   ],
   "source": [
    "# Top 10 Start Destinations\n",
    "fig = gmaps.figure(center = (40.75,-74), zoom_level = 12.50)\n",
    "\n",
    "# Store the DataFrame Row\n",
    "station_name = [info_box_template.format(**row) for index, row in top_10_start_station.iterrows()]\n",
    "start_locations = top_10_start_station[[\"Latitude\", \"Longitude\"]]\n",
    "start_stations = top_10_start_station.index\n",
    "markers = gmaps.marker_layer(start_locations, info_box_content = start_stations)\n",
    "# markers = gmaps.marker_layer(hotel_coordinates, info_box_content = hotel_info)\n",
    "fig.add_layer(markers)\n",
    "fig"
   ]
  },
  {
   "cell_type": "code",
   "execution_count": 295,
   "metadata": {},
   "outputs": [
    {
     "data": {
      "application/vnd.jupyter.widget-view+json": {
       "model_id": "d8bc32a92fff4a62a5b39e30981a510d",
       "version_major": 2,
       "version_minor": 0
      },
      "text/plain": [
       "Figure(layout=FigureLayout(height='420px'))"
      ]
     },
     "metadata": {},
     "output_type": "display_data"
    }
   ],
   "source": [
    "# Top 10 End Destinations\n",
    "fig2 = gmaps.figure(center = (40.75,-74), zoom_level = 12.50)\n",
    "\n",
    "# Store the DataFrame Row\n",
    "station_name2 = [info_box_template.format(**row) for index, row in top_10_end_station.iterrows()]\n",
    "end_locations = top_10_end_station[[\"Latitude\", \"Longitude\"]]\n",
    "end_stations = top_10_end_station.index\n",
    "markers = gmaps.marker_layer(end_locations, info_box_content = end_stations)\n",
    "# markers = gmaps.marker_layer(hotel_coordinates, info_box_content = hotel_info)\n",
    "fig2.add_layer(markers)\n",
    "fig2"
   ]
  },
  {
   "cell_type": "code",
   "execution_count": null,
   "metadata": {},
   "outputs": [],
   "source": []
  },
  {
   "cell_type": "code",
   "execution_count": null,
   "metadata": {},
   "outputs": [],
   "source": []
  }
 ],
 "metadata": {
  "kernelspec": {
   "display_name": "Python 3",
   "language": "python",
   "name": "python3"
  },
  "language_info": {
   "codemirror_mode": {
    "name": "ipython",
    "version": 3
   },
   "file_extension": ".py",
   "mimetype": "text/x-python",
   "name": "python",
   "nbconvert_exporter": "python",
   "pygments_lexer": "ipython3",
   "version": "3.7.4"
  }
 },
 "nbformat": 4,
 "nbformat_minor": 2
}
