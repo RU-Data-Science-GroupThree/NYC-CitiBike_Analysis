{
 "cells": [
  {
   "cell_type": "code",
   "execution_count": 1,
   "metadata": {},
   "outputs": [],
   "source": [
    "import csv\n",
    "import pandas as pd\n",
    "import matplotlib.pyplot as plt\n",
    "import gmaps\n",
    "from config import gkey\n",
    "gmaps.configure(api_key=gkey)"
   ]
  },
  {
   "cell_type": "code",
   "execution_count": 2,
   "metadata": {},
   "outputs": [],
   "source": [
    "jan_19_csv = pd.read_csv(\"../data/201901-citibike-tripdata.csv\")\n",
    "feb_19_csv = pd.read_csv(\"../data/201902-citibike-tripdata.csv\")\n",
    "mar_19_csv = pd.read_csv(\"../data/201903-citibike-tripdata.csv\")\n",
    "jan_feb_merge = pd.merge(jan_19_csv,feb_19_csv, how = \"outer\")\n",
    "quarter_01_2019 = pd.merge(jan_feb_merge, mar_19_csv, how = \"outer\")"
   ]
  },
  {
   "cell_type": "code",
   "execution_count": 3,
   "metadata": {},
   "outputs": [],
   "source": [
    "april_2019_csv = pd.read_csv(\"../data/201904-citibike-tripdata.csv\")\n",
    "may_2019_csv = pd.read_csv(\"../data/201905-citibike-tripdata.csv\")\n",
    "june_2019_csv = pd.read_csv(\"../data/201906-citibike-tripdata.csv\")\n",
    "april_may_merge = pd.merge (april_2019_csv,may_2019_csv, how = \"outer\")\n",
    "quarter_02_2019 = pd.merge(april_may_merge, june_2019_csv, how = \"outer\")"
   ]
  },
  {
   "cell_type": "code",
   "execution_count": 4,
   "metadata": {},
   "outputs": [],
   "source": [
    "july_2019_csv = pd.read_csv(\"../data/201907-citibike-tripdata.csv\")\n",
    "august_2019_csv = pd.read_csv(\"../data/201908-citibike-tripdata.csv\")\n",
    "september_2019_csv = pd.read_csv(\"../data/201909-citibike-tripdata.csv\")\n",
    "july_august_merge = pd.merge(july_2019_csv,august_2019_csv, how = \"outer\")\n",
    "quarter_03_2019 = pd.merge(july_august_merge,september_2019_csv, how = \"outer\")"
   ]
  },
  {
   "cell_type": "code",
   "execution_count": 5,
   "metadata": {},
   "outputs": [],
   "source": [
    "october_2019_csv = pd.read_csv(\"../data/201910-citibike-tripdata.csv\")\n",
    "november_2019_csv = pd.read_csv(\"../data/201911-citibike-tripdata.csv\")\n",
    "december_2019_csv = pd.read_csv(\"../data/201912-citibike-tripdata.csv\")\n",
    "october_november_merge = pd.merge(october_2019_csv,november_2019_csv, how = \"outer\")\n",
    "quarter_04_2019 = pd.merge(october_november_merge,december_2019_csv, how = \"outer\")"
   ]
  },
  {
   "cell_type": "code",
   "execution_count": 6,
   "metadata": {},
   "outputs": [],
   "source": [
    "H1_2019 = pd.merge(quarter_01_2019,quarter_02_2019, how = \"outer\")"
   ]
  },
  {
   "cell_type": "code",
   "execution_count": 7,
   "metadata": {},
   "outputs": [],
   "source": [
    "H2_2019 = pd.merge(quarter_03_2019,quarter_04_2019, how = \"outer\")"
   ]
  },
  {
   "cell_type": "code",
   "execution_count": 8,
   "metadata": {},
   "outputs": [
    {
     "name": "stdout",
     "output_type": "stream",
     "text": [
      "20551697\n",
      "20551697\n"
     ]
    }
   ],
   "source": [
    "print(len(quarter_01_2019)+len(quarter_02_2019)+len(quarter_03_2019)+len(quarter_04_2019))\n",
    "print(len(H1_2019)+len(H2_2019))"
   ]
  },
  {
   "cell_type": "code",
   "execution_count": 9,
   "metadata": {},
   "outputs": [
    {
     "data": {
      "text/plain": [
       "Pershing Square North            70970\n",
       "8 Ave & W 31 St                  53950\n",
       "Broadway & E 22 St               53372\n",
       "E 17 St & Broadway               52673\n",
       "Broadway & E 14 St               50704\n",
       "Broadway & W 60 St               45800\n",
       "West St & Chambers St            45576\n",
       "W 21 St & 6 Ave                  44965\n",
       "W 20 St & 11 Ave                 43672\n",
       "Christopher St & Greenwich St    42904\n",
       "Name: start station name, dtype: int64"
      ]
     },
     "execution_count": 9,
     "metadata": {},
     "output_type": "execute_result"
    }
   ],
   "source": [
    "# Finding top 10 starting stations for H1 of 2019\n",
    "H1_station_start_df = H1_2019[\"start station name\"]\n",
    "H1_station_start_df_most = H1_station_start_df.value_counts()\n",
    "H1_station_start_df_most.head(10)"
   ]
  },
  {
   "cell_type": "code",
   "execution_count": 10,
   "metadata": {},
   "outputs": [
    {
     "data": {
      "text/plain": [
       "Pershing Square North    70861\n",
       "Broadway & E 22 St       56986\n",
       "8 Ave & W 31 St          54749\n",
       "E 17 St & Broadway       53448\n",
       "Broadway & E 14 St       51386\n",
       "West St & Chambers St    48842\n",
       "W 21 St & 6 Ave          45103\n",
       "W 20 St & 11 Ave         44630\n",
       "Broadway & W 60 St       43888\n",
       "12 Ave & W 40 St         43555\n",
       "Name: end station name, dtype: int64"
      ]
     },
     "execution_count": 10,
     "metadata": {},
     "output_type": "execute_result"
    }
   ],
   "source": [
    "# Finding top 10 docking stations for H1 of 2019\n",
    "H1_station_end_df = H1_2019[\"end station name\"]\n",
    "H1_station_end_df_most = H1_station_end_df.value_counts()\n",
    "H1_station_end_df_most.head(10)"
   ]
  },
  {
   "cell_type": "code",
   "execution_count": 11,
   "metadata": {},
   "outputs": [
    {
     "data": {
      "text/plain": [
       "Pershing Square North            85605\n",
       "E 17 St & Broadway               69108\n",
       "8 Ave & W 31 St                  66008\n",
       "W 21 St & 6 Ave                  65340\n",
       "Broadway & E 14 St               62308\n",
       "West St & Chambers St            60060\n",
       "Broadway & E 22 St               59766\n",
       "Christopher St & Greenwich St    58509\n",
       "Broadway & W 60 St               57367\n",
       "12 Ave & W 40 St                 56881\n",
       "Name: start station name, dtype: int64"
      ]
     },
     "execution_count": 11,
     "metadata": {},
     "output_type": "execute_result"
    }
   ],
   "source": [
    "# Finding top 10 starting stations for H2 of 2019\n",
    "H2_station_start_df = H2_2019[\"start station name\"]\n",
    "H2_station_start_df_most = H2_station_start_df.value_counts()\n",
    "H2_station_start_df_most.head(10)"
   ]
  },
  {
   "cell_type": "code",
   "execution_count": 12,
   "metadata": {},
   "outputs": [
    {
     "data": {
      "text/plain": [
       "Pershing Square North            84675\n",
       "E 17 St & Broadway               72018\n",
       "West St & Chambers St            67161\n",
       "8 Ave & W 31 St                  66882\n",
       "Broadway & E 22 St               66160\n",
       "W 21 St & 6 Ave                  65420\n",
       "Broadway & E 14 St               62792\n",
       "12 Ave & W 40 St                 60193\n",
       "Christopher St & Greenwich St    58644\n",
       "Broadway & W 60 St               56043\n",
       "Name: end station name, dtype: int64"
      ]
     },
     "execution_count": 12,
     "metadata": {},
     "output_type": "execute_result"
    }
   ],
   "source": [
    "# Finding top 10 docking stations for H2 of 2019\n",
    "H2_station_end_df = H2_2019[\"end station name\"]\n",
    "H2_station_end_df_most = H2_station_end_df.value_counts()\n",
    "H2_station_end_df_most.head(10)"
   ]
  },
  {
   "cell_type": "code",
   "execution_count": 13,
   "metadata": {},
   "outputs": [
    {
     "data": {
      "text/html": [
       "<div>\n",
       "<style scoped>\n",
       "    .dataframe tbody tr th:only-of-type {\n",
       "        vertical-align: middle;\n",
       "    }\n",
       "\n",
       "    .dataframe tbody tr th {\n",
       "        vertical-align: top;\n",
       "    }\n",
       "\n",
       "    .dataframe thead th {\n",
       "        text-align: right;\n",
       "    }\n",
       "</style>\n",
       "<table border=\"1\" class=\"dataframe\">\n",
       "  <thead>\n",
       "    <tr style=\"text-align: right;\">\n",
       "      <th></th>\n",
       "      <th>start station name</th>\n",
       "    </tr>\n",
       "  </thead>\n",
       "  <tbody>\n",
       "    <tr>\n",
       "      <td>Pershing Square North</td>\n",
       "      <td>156575.0</td>\n",
       "    </tr>\n",
       "    <tr>\n",
       "      <td>E 17 St &amp; Broadway</td>\n",
       "      <td>121781.0</td>\n",
       "    </tr>\n",
       "    <tr>\n",
       "      <td>8 Ave &amp; W 31 St</td>\n",
       "      <td>119958.0</td>\n",
       "    </tr>\n",
       "    <tr>\n",
       "      <td>Broadway &amp; E 22 St</td>\n",
       "      <td>113138.0</td>\n",
       "    </tr>\n",
       "    <tr>\n",
       "      <td>Broadway &amp; E 14 St</td>\n",
       "      <td>113012.0</td>\n",
       "    </tr>\n",
       "    <tr>\n",
       "      <td>W 21 St &amp; 6 Ave</td>\n",
       "      <td>110305.0</td>\n",
       "    </tr>\n",
       "    <tr>\n",
       "      <td>West St &amp; Chambers St</td>\n",
       "      <td>105636.0</td>\n",
       "    </tr>\n",
       "    <tr>\n",
       "      <td>Broadway &amp; W 60 St</td>\n",
       "      <td>103167.0</td>\n",
       "    </tr>\n",
       "    <tr>\n",
       "      <td>Christopher St &amp; Greenwich St</td>\n",
       "      <td>101413.0</td>\n",
       "    </tr>\n",
       "    <tr>\n",
       "      <td>12 Ave &amp; W 40 St</td>\n",
       "      <td>99300.0</td>\n",
       "    </tr>\n",
       "  </tbody>\n",
       "</table>\n",
       "</div>"
      ],
      "text/plain": [
       "                               start station name\n",
       "Pershing Square North                    156575.0\n",
       "E 17 St & Broadway                       121781.0\n",
       "8 Ave & W 31 St                          119958.0\n",
       "Broadway & E 22 St                       113138.0\n",
       "Broadway & E 14 St                       113012.0\n",
       "W 21 St & 6 Ave                          110305.0\n",
       "West St & Chambers St                    105636.0\n",
       "Broadway & W 60 St                       103167.0\n",
       "Christopher St & Greenwich St            101413.0\n",
       "12 Ave & W 40 St                          99300.0"
      ]
     },
     "execution_count": 13,
     "metadata": {},
     "output_type": "execute_result"
    }
   ],
   "source": [
    "# Finding the most popular station where people start their trips from in 2019\n",
    "start_station_2019 = H1_station_start_df_most + H2_station_start_df_most\n",
    "start_station_2019_df = pd.DataFrame(start_station_2019)\n",
    "\n",
    "# sorting by counts of start station\n",
    "sort_start_station_2019_df = start_station_2019_df.sort_values(by = \"start station name\", ascending = False)\n",
    "\n",
    "top_10_start_station = sort_start_station_2019_df.head(10)\n",
    "top_10_start_station"
   ]
  },
  {
   "cell_type": "code",
   "execution_count": 14,
   "metadata": {},
   "outputs": [
    {
     "data": {
      "text/html": [
       "<div>\n",
       "<style scoped>\n",
       "    .dataframe tbody tr th:only-of-type {\n",
       "        vertical-align: middle;\n",
       "    }\n",
       "\n",
       "    .dataframe tbody tr th {\n",
       "        vertical-align: top;\n",
       "    }\n",
       "\n",
       "    .dataframe thead th {\n",
       "        text-align: right;\n",
       "    }\n",
       "</style>\n",
       "<table border=\"1\" class=\"dataframe\">\n",
       "  <thead>\n",
       "    <tr style=\"text-align: right;\">\n",
       "      <th></th>\n",
       "      <th>end station name</th>\n",
       "    </tr>\n",
       "  </thead>\n",
       "  <tbody>\n",
       "    <tr>\n",
       "      <td>Pershing Square North</td>\n",
       "      <td>155536.0</td>\n",
       "    </tr>\n",
       "    <tr>\n",
       "      <td>E 17 St &amp; Broadway</td>\n",
       "      <td>125466.0</td>\n",
       "    </tr>\n",
       "    <tr>\n",
       "      <td>Broadway &amp; E 22 St</td>\n",
       "      <td>123146.0</td>\n",
       "    </tr>\n",
       "    <tr>\n",
       "      <td>8 Ave &amp; W 31 St</td>\n",
       "      <td>121631.0</td>\n",
       "    </tr>\n",
       "    <tr>\n",
       "      <td>West St &amp; Chambers St</td>\n",
       "      <td>116003.0</td>\n",
       "    </tr>\n",
       "    <tr>\n",
       "      <td>Broadway &amp; E 14 St</td>\n",
       "      <td>114178.0</td>\n",
       "    </tr>\n",
       "    <tr>\n",
       "      <td>W 21 St &amp; 6 Ave</td>\n",
       "      <td>110523.0</td>\n",
       "    </tr>\n",
       "    <tr>\n",
       "      <td>12 Ave &amp; W 40 St</td>\n",
       "      <td>103748.0</td>\n",
       "    </tr>\n",
       "    <tr>\n",
       "      <td>Christopher St &amp; Greenwich St</td>\n",
       "      <td>101823.0</td>\n",
       "    </tr>\n",
       "    <tr>\n",
       "      <td>Broadway &amp; W 60 St</td>\n",
       "      <td>99931.0</td>\n",
       "    </tr>\n",
       "  </tbody>\n",
       "</table>\n",
       "</div>"
      ],
      "text/plain": [
       "                               end station name\n",
       "Pershing Square North                  155536.0\n",
       "E 17 St & Broadway                     125466.0\n",
       "Broadway & E 22 St                     123146.0\n",
       "8 Ave & W 31 St                        121631.0\n",
       "West St & Chambers St                  116003.0\n",
       "Broadway & E 14 St                     114178.0\n",
       "W 21 St & 6 Ave                        110523.0\n",
       "12 Ave & W 40 St                       103748.0\n",
       "Christopher St & Greenwich St          101823.0\n",
       "Broadway & W 60 St                      99931.0"
      ]
     },
     "execution_count": 14,
     "metadata": {},
     "output_type": "execute_result"
    }
   ],
   "source": [
    "# Finding the most popular station where people end their trips from in 2019\n",
    "end_station_2019 = H1_station_end_df_most + H2_station_end_df_most\n",
    "end_station_2019_df = pd.DataFrame(end_station_2019)\n",
    "\n",
    "# sorting by counts of start station\n",
    "sort_end_station_2019_df = end_station_2019_df.sort_values(by = \"end station name\", ascending = False)\n",
    "\n",
    "top_10_end_station = sort_end_station_2019_df.head(10)\n",
    "top_10_end_station"
   ]
  },
  {
   "cell_type": "code",
   "execution_count": 15,
   "metadata": {},
   "outputs": [
    {
     "name": "stdout",
     "output_type": "stream",
     "text": [
      "(40.751872999999996, -73.97770600000001)\n",
      "(40.73704984, -73.99009296)\n",
      "(40.740343200000005, -73.98955109)\n",
      "(40.7505853470215, -73.9946848154068)\n",
      "(40.71754834, -74.01322069)\n",
      "(40.73454567, -73.99074142)\n",
      "(40.74173969, -73.99415556)\n",
      "(40.76087502, -74.00277668)\n",
      "(40.73291553, -74.00711384)\n",
      "(40.76915505, -73.98191841)\n"
     ]
    }
   ],
   "source": [
    "# finding coordinates of particular stations\n",
    "# printing all coordinates\n",
    "\n",
    "pershing_lat = jan_19_csv.loc[jan_19_csv[\"start station name\"] == \"Pershing Square North\", \"start station latitude\"].unique()\n",
    "pershing_lng = jan_19_csv.loc[jan_19_csv[\"start station name\"] == \"Pershing Square North\", \"start station longitude\"].unique()\n",
    "pershing_coord = (pershing_lat[0], pershing_lng[0])\n",
    "print(pershing_coord)\n",
    "\n",
    "e_17_lat = jan_19_csv.loc[jan_19_csv[\"start station name\"] == \"E 17 St & Broadway\", \"start station latitude\"].unique()\n",
    "e_17_lng = jan_19_csv.loc[jan_19_csv[\"start station name\"] == \"E 17 St & Broadway\", \"start station longitude\"].unique()\n",
    "e_17_coord = (e_17_lat[0], e_17_lng[0])\n",
    "print(e_17_coord)\n",
    "\n",
    "broad_e22_lat = jan_19_csv.loc[jan_19_csv[\"start station name\"] == \"Broadway & E 22 St\", \"start station latitude\"].unique()\n",
    "broad_e22_lng = jan_19_csv.loc[jan_19_csv[\"start station name\"] == \"Broadway & E 22 St\", \"start station longitude\"].unique()\n",
    "broad_e22_coord = (broad_e22_lat[0], broad_e22_lng[0])\n",
    "print(broad_e22_coord)\n",
    "\n",
    "eighth_w31_lat = jan_19_csv.loc[jan_19_csv[\"start station name\"] == \"8 Ave & W 31 St\", \"start station latitude\"].unique()\n",
    "eighth_w31_lng = jan_19_csv.loc[jan_19_csv[\"start station name\"] == \"8 Ave & W 31 St\", \"start station longitude\"].unique()\n",
    "eighth_w31_coord = (eighth_w31_lat[0], eighth_w31_lng[0])\n",
    "print(eighth_w31_coord)\n",
    "\n",
    "west_chambers_lat = jan_19_csv.loc[jan_19_csv[\"start station name\"] == \"West St & Chambers St\", \"start station latitude\"].unique()\n",
    "west_chambers_lng = jan_19_csv.loc[jan_19_csv[\"start station name\"] == \"West St & Chambers St\", \"start station longitude\"].unique()\n",
    "west_chambers_coord = (west_chambers_lat[0], west_chambers_lng[0])\n",
    "print(west_chambers_coord)\n",
    "\n",
    "broad_e14_lat = jan_19_csv.loc[jan_19_csv[\"start station name\"] == \"Broadway & E 14 St\", \"start station latitude\"].unique()\n",
    "broad_e14_lng = jan_19_csv.loc[jan_19_csv[\"start station name\"] == \"Broadway & E 14 St\", \"start station longitude\"].unique()\n",
    "broad_e14_coord = (broad_e14_lat[0], broad_e14_lng[0])\n",
    "print(broad_e14_coord)\n",
    "\n",
    "w21_6_ave_lat = jan_19_csv.loc[jan_19_csv[\"start station name\"] == \"W 21 St & 6 Ave\", \"start station latitude\"].unique()\n",
    "w21_6_ave_lng = jan_19_csv.loc[jan_19_csv[\"start station name\"] == \"W 21 St & 6 Ave\", \"start station longitude\"].unique()\n",
    "w21_6_ave_coord = (w21_6_ave_lat[0], w21_6_ave_lng[0])\n",
    "print(w21_6_ave_coord)\n",
    "\n",
    "ave12_w40_lat = jan_19_csv.loc[jan_19_csv[\"start station name\"] == \"12 Ave & W 40 St\", \"start station latitude\"].unique()\n",
    "ave12_w40_lng = jan_19_csv.loc[jan_19_csv[\"start station name\"] == \"12 Ave & W 40 St\", \"start station longitude\"].unique()\n",
    "ave12_w40_coord = (ave12_w40_lat[0], ave12_w40_lng[0])\n",
    "print(ave12_w40_coord)\n",
    "\n",
    "chris_greenwich_lat = jan_19_csv.loc[jan_19_csv[\"start station name\"] == \"Christopher St & Greenwich St\", \"start station latitude\"].unique()\n",
    "chris_greenwich_lng = jan_19_csv.loc[jan_19_csv[\"start station name\"] == \"Christopher St & Greenwich St\", \"start station longitude\"].unique()\n",
    "chris_greenwich_coord = (chris_greenwich_lat[0], chris_greenwich_lng[0])\n",
    "print(chris_greenwich_coord)\n",
    "\n",
    "broad_w60_lat = jan_19_csv.loc[jan_19_csv[\"start station name\"] == \"Broadway & W 60 St\", \"start station latitude\"].unique()\n",
    "broad_w60_lng = jan_19_csv.loc[jan_19_csv[\"start station name\"] == \"Broadway & W 60 St\", \"start station longitude\"].unique()\n",
    "broad_w60_coord = (broad_w60_lat[0], broad_w60_lng[0])\n",
    "print(broad_w60_coord)"
   ]
  },
  {
   "cell_type": "code",
   "execution_count": 16,
   "metadata": {},
   "outputs": [
    {
     "data": {
      "text/plain": [
       "[40.751872999999996,\n",
       " 40.73704984,\n",
       " 40.7505853470215,\n",
       " 40.740343200000005,\n",
       " 40.73454567,\n",
       " 40.74173969,\n",
       " 40.71754834,\n",
       " 40.76915505,\n",
       " 40.73291553,\n",
       " 40.76087502]"
      ]
     },
     "execution_count": 16,
     "metadata": {},
     "output_type": "execute_result"
    }
   ],
   "source": [
    "# creating list of latitudes for starting stations\n",
    "start_stations_lat = [pershing_lat[0],e_17_lat[0],eighth_w31_lat[0],broad_e22_lat[0],broad_e14_lat[0],w21_6_ave_lat[0],\n",
    "                      west_chambers_lat[0],broad_w60_lat[0],chris_greenwich_lat[0],ave12_w40_lat[0]]\n",
    "start_stations_lat"
   ]
  },
  {
   "cell_type": "code",
   "execution_count": 17,
   "metadata": {},
   "outputs": [
    {
     "data": {
      "text/plain": [
       "[-73.97770600000001,\n",
       " -73.99009296,\n",
       " -73.9946848154068,\n",
       " -73.98955109,\n",
       " -73.99074142,\n",
       " -73.99415556,\n",
       " -74.01322069,\n",
       " -73.98191841,\n",
       " -74.00711384,\n",
       " -74.00277668]"
      ]
     },
     "execution_count": 17,
     "metadata": {},
     "output_type": "execute_result"
    }
   ],
   "source": [
    "# creating list of longitudes for starting stations\n",
    "start_stations_lng = [pershing_lng[0],e_17_lng[0],eighth_w31_lng[0],broad_e22_lng[0],broad_e14_lng[0],w21_6_ave_lng[0],\n",
    "                      west_chambers_lng[0],broad_w60_lng[0],chris_greenwich_lng[0],ave12_w40_lng[0]]\n",
    "start_stations_lng"
   ]
  },
  {
   "cell_type": "code",
   "execution_count": 18,
   "metadata": {},
   "outputs": [
    {
     "name": "stderr",
     "output_type": "stream",
     "text": [
      "C:\\Users\\alexv\\AppData\\Local\\Continuum\\anaconda3\\lib\\site-packages\\ipykernel_launcher.py:2: SettingWithCopyWarning: \n",
      "A value is trying to be set on a copy of a slice from a DataFrame.\n",
      "Try using .loc[row_indexer,col_indexer] = value instead\n",
      "\n",
      "See the caveats in the documentation: http://pandas.pydata.org/pandas-docs/stable/user_guide/indexing.html#returning-a-view-versus-a-copy\n",
      "  \n",
      "C:\\Users\\alexv\\AppData\\Local\\Continuum\\anaconda3\\lib\\site-packages\\ipykernel_launcher.py:3: SettingWithCopyWarning: \n",
      "A value is trying to be set on a copy of a slice from a DataFrame.\n",
      "Try using .loc[row_indexer,col_indexer] = value instead\n",
      "\n",
      "See the caveats in the documentation: http://pandas.pydata.org/pandas-docs/stable/user_guide/indexing.html#returning-a-view-versus-a-copy\n",
      "  This is separate from the ipykernel package so we can avoid doing imports until\n"
     ]
    }
   ],
   "source": [
    "# adding latitude and longitude as series in dataframe for top 10 starting stations\n",
    "top_10_start_station[\"Latitude\"] = start_stations_lat\n",
    "top_10_start_station[\"Longitude\"] = start_stations_lng"
   ]
  },
  {
   "cell_type": "code",
   "execution_count": 19,
   "metadata": {},
   "outputs": [
    {
     "name": "stderr",
     "output_type": "stream",
     "text": [
      "C:\\Users\\alexv\\AppData\\Local\\Continuum\\anaconda3\\lib\\site-packages\\pandas\\core\\frame.py:4223: SettingWithCopyWarning: \n",
      "A value is trying to be set on a copy of a slice from a DataFrame\n",
      "\n",
      "See the caveats in the documentation: http://pandas.pydata.org/pandas-docs/stable/user_guide/indexing.html#returning-a-view-versus-a-copy\n",
      "  return super().rename(**kwargs)\n"
     ]
    },
    {
     "data": {
      "text/html": [
       "<div>\n",
       "<style scoped>\n",
       "    .dataframe tbody tr th:only-of-type {\n",
       "        vertical-align: middle;\n",
       "    }\n",
       "\n",
       "    .dataframe tbody tr th {\n",
       "        vertical-align: top;\n",
       "    }\n",
       "\n",
       "    .dataframe thead th {\n",
       "        text-align: right;\n",
       "    }\n",
       "</style>\n",
       "<table border=\"1\" class=\"dataframe\">\n",
       "  <thead>\n",
       "    <tr style=\"text-align: right;\">\n",
       "      <th></th>\n",
       "      <th>Number of Trips</th>\n",
       "      <th>Latitude</th>\n",
       "      <th>Longitude</th>\n",
       "    </tr>\n",
       "  </thead>\n",
       "  <tbody>\n",
       "    <tr>\n",
       "      <td>Pershing Square North</td>\n",
       "      <td>156575.0</td>\n",
       "      <td>40.751873</td>\n",
       "      <td>-73.977706</td>\n",
       "    </tr>\n",
       "    <tr>\n",
       "      <td>E 17 St &amp; Broadway</td>\n",
       "      <td>121781.0</td>\n",
       "      <td>40.737050</td>\n",
       "      <td>-73.990093</td>\n",
       "    </tr>\n",
       "    <tr>\n",
       "      <td>8 Ave &amp; W 31 St</td>\n",
       "      <td>119958.0</td>\n",
       "      <td>40.750585</td>\n",
       "      <td>-73.994685</td>\n",
       "    </tr>\n",
       "    <tr>\n",
       "      <td>Broadway &amp; E 22 St</td>\n",
       "      <td>113138.0</td>\n",
       "      <td>40.740343</td>\n",
       "      <td>-73.989551</td>\n",
       "    </tr>\n",
       "    <tr>\n",
       "      <td>Broadway &amp; E 14 St</td>\n",
       "      <td>113012.0</td>\n",
       "      <td>40.734546</td>\n",
       "      <td>-73.990741</td>\n",
       "    </tr>\n",
       "    <tr>\n",
       "      <td>W 21 St &amp; 6 Ave</td>\n",
       "      <td>110305.0</td>\n",
       "      <td>40.741740</td>\n",
       "      <td>-73.994156</td>\n",
       "    </tr>\n",
       "    <tr>\n",
       "      <td>West St &amp; Chambers St</td>\n",
       "      <td>105636.0</td>\n",
       "      <td>40.717548</td>\n",
       "      <td>-74.013221</td>\n",
       "    </tr>\n",
       "    <tr>\n",
       "      <td>Broadway &amp; W 60 St</td>\n",
       "      <td>103167.0</td>\n",
       "      <td>40.769155</td>\n",
       "      <td>-73.981918</td>\n",
       "    </tr>\n",
       "    <tr>\n",
       "      <td>Christopher St &amp; Greenwich St</td>\n",
       "      <td>101413.0</td>\n",
       "      <td>40.732916</td>\n",
       "      <td>-74.007114</td>\n",
       "    </tr>\n",
       "    <tr>\n",
       "      <td>12 Ave &amp; W 40 St</td>\n",
       "      <td>99300.0</td>\n",
       "      <td>40.760875</td>\n",
       "      <td>-74.002777</td>\n",
       "    </tr>\n",
       "  </tbody>\n",
       "</table>\n",
       "</div>"
      ],
      "text/plain": [
       "                               Number of Trips   Latitude  Longitude\n",
       "Pershing Square North                 156575.0  40.751873 -73.977706\n",
       "E 17 St & Broadway                    121781.0  40.737050 -73.990093\n",
       "8 Ave & W 31 St                       119958.0  40.750585 -73.994685\n",
       "Broadway & E 22 St                    113138.0  40.740343 -73.989551\n",
       "Broadway & E 14 St                    113012.0  40.734546 -73.990741\n",
       "W 21 St & 6 Ave                       110305.0  40.741740 -73.994156\n",
       "West St & Chambers St                 105636.0  40.717548 -74.013221\n",
       "Broadway & W 60 St                    103167.0  40.769155 -73.981918\n",
       "Christopher St & Greenwich St         101413.0  40.732916 -74.007114\n",
       "12 Ave & W 40 St                       99300.0  40.760875 -74.002777"
      ]
     },
     "execution_count": 19,
     "metadata": {},
     "output_type": "execute_result"
    }
   ],
   "source": [
    "# Final DataFrame for Top 10 Starting Stations\n",
    "# list of coordinates ordered based on number of trips. They match station name\n",
    "top_10_start_station.rename(columns = {\"start station name\":\"Number of Trips\"}, inplace = True)\n",
    "top_10_start_station"
   ]
  },
  {
   "cell_type": "code",
   "execution_count": 20,
   "metadata": {},
   "outputs": [],
   "source": [
    "# list of coordinates ordered based on number of trips. They match station name\n",
    "\n",
    "# creating list of latitudes for docking stations\n",
    "end_stations_lat = [pershing_lat[0],e_17_lat[0],broad_e22_lat[0],eighth_w31_lat[0],west_chambers_lat[0],\n",
    "                   broad_e14_lat[0],w21_6_ave_lat[0],ave12_w40_lat[0],chris_greenwich_lat[0],broad_w60_lat[0]]\n",
    "# creating list of latitudes for docking stations\n",
    "end_stations_lng = [pershing_lng[0],e_17_lng[0],broad_e22_lng[0],eighth_w31_lng[0],west_chambers_lng[0],\n",
    "                   broad_e14_lng[0],w21_6_ave_lng[0],ave12_w40_lng[0],chris_greenwich_lng[0],broad_w60_lng[0]]"
   ]
  },
  {
   "cell_type": "code",
   "execution_count": 21,
   "metadata": {},
   "outputs": [
    {
     "name": "stderr",
     "output_type": "stream",
     "text": [
      "C:\\Users\\alexv\\AppData\\Local\\Continuum\\anaconda3\\lib\\site-packages\\ipykernel_launcher.py:2: SettingWithCopyWarning: \n",
      "A value is trying to be set on a copy of a slice from a DataFrame.\n",
      "Try using .loc[row_indexer,col_indexer] = value instead\n",
      "\n",
      "See the caveats in the documentation: http://pandas.pydata.org/pandas-docs/stable/user_guide/indexing.html#returning-a-view-versus-a-copy\n",
      "  \n",
      "C:\\Users\\alexv\\AppData\\Local\\Continuum\\anaconda3\\lib\\site-packages\\ipykernel_launcher.py:3: SettingWithCopyWarning: \n",
      "A value is trying to be set on a copy of a slice from a DataFrame.\n",
      "Try using .loc[row_indexer,col_indexer] = value instead\n",
      "\n",
      "See the caveats in the documentation: http://pandas.pydata.org/pandas-docs/stable/user_guide/indexing.html#returning-a-view-versus-a-copy\n",
      "  This is separate from the ipykernel package so we can avoid doing imports until\n"
     ]
    },
    {
     "data": {
      "text/html": [
       "<div>\n",
       "<style scoped>\n",
       "    .dataframe tbody tr th:only-of-type {\n",
       "        vertical-align: middle;\n",
       "    }\n",
       "\n",
       "    .dataframe tbody tr th {\n",
       "        vertical-align: top;\n",
       "    }\n",
       "\n",
       "    .dataframe thead th {\n",
       "        text-align: right;\n",
       "    }\n",
       "</style>\n",
       "<table border=\"1\" class=\"dataframe\">\n",
       "  <thead>\n",
       "    <tr style=\"text-align: right;\">\n",
       "      <th></th>\n",
       "      <th>Number of Trips</th>\n",
       "      <th>Latitude</th>\n",
       "      <th>Longitude</th>\n",
       "    </tr>\n",
       "  </thead>\n",
       "  <tbody>\n",
       "    <tr>\n",
       "      <td>Pershing Square North</td>\n",
       "      <td>155536.0</td>\n",
       "      <td>40.751873</td>\n",
       "      <td>-73.977706</td>\n",
       "    </tr>\n",
       "    <tr>\n",
       "      <td>E 17 St &amp; Broadway</td>\n",
       "      <td>125466.0</td>\n",
       "      <td>40.737050</td>\n",
       "      <td>-73.990093</td>\n",
       "    </tr>\n",
       "    <tr>\n",
       "      <td>Broadway &amp; E 22 St</td>\n",
       "      <td>123146.0</td>\n",
       "      <td>40.740343</td>\n",
       "      <td>-73.989551</td>\n",
       "    </tr>\n",
       "    <tr>\n",
       "      <td>8 Ave &amp; W 31 St</td>\n",
       "      <td>121631.0</td>\n",
       "      <td>40.750585</td>\n",
       "      <td>-73.994685</td>\n",
       "    </tr>\n",
       "    <tr>\n",
       "      <td>West St &amp; Chambers St</td>\n",
       "      <td>116003.0</td>\n",
       "      <td>40.717548</td>\n",
       "      <td>-74.013221</td>\n",
       "    </tr>\n",
       "    <tr>\n",
       "      <td>Broadway &amp; E 14 St</td>\n",
       "      <td>114178.0</td>\n",
       "      <td>40.734546</td>\n",
       "      <td>-73.990741</td>\n",
       "    </tr>\n",
       "    <tr>\n",
       "      <td>W 21 St &amp; 6 Ave</td>\n",
       "      <td>110523.0</td>\n",
       "      <td>40.741740</td>\n",
       "      <td>-73.994156</td>\n",
       "    </tr>\n",
       "    <tr>\n",
       "      <td>12 Ave &amp; W 40 St</td>\n",
       "      <td>103748.0</td>\n",
       "      <td>40.760875</td>\n",
       "      <td>-74.002777</td>\n",
       "    </tr>\n",
       "    <tr>\n",
       "      <td>Christopher St &amp; Greenwich St</td>\n",
       "      <td>101823.0</td>\n",
       "      <td>40.732916</td>\n",
       "      <td>-74.007114</td>\n",
       "    </tr>\n",
       "    <tr>\n",
       "      <td>Broadway &amp; W 60 St</td>\n",
       "      <td>99931.0</td>\n",
       "      <td>40.769155</td>\n",
       "      <td>-73.981918</td>\n",
       "    </tr>\n",
       "  </tbody>\n",
       "</table>\n",
       "</div>"
      ],
      "text/plain": [
       "                               Number of Trips   Latitude  Longitude\n",
       "Pershing Square North                 155536.0  40.751873 -73.977706\n",
       "E 17 St & Broadway                    125466.0  40.737050 -73.990093\n",
       "Broadway & E 22 St                    123146.0  40.740343 -73.989551\n",
       "8 Ave & W 31 St                       121631.0  40.750585 -73.994685\n",
       "West St & Chambers St                 116003.0  40.717548 -74.013221\n",
       "Broadway & E 14 St                    114178.0  40.734546 -73.990741\n",
       "W 21 St & 6 Ave                       110523.0  40.741740 -73.994156\n",
       "12 Ave & W 40 St                      103748.0  40.760875 -74.002777\n",
       "Christopher St & Greenwich St         101823.0  40.732916 -74.007114\n",
       "Broadway & W 60 St                     99931.0  40.769155 -73.981918"
      ]
     },
     "execution_count": 21,
     "metadata": {},
     "output_type": "execute_result"
    }
   ],
   "source": [
    "# adding latitude and longitude as series in dataframe for top 10 docking stations\n",
    "top_10_end_station[\"Latitude\"] = end_stations_lat\n",
    "top_10_end_station[\"Longitude\"] = end_stations_lng\n",
    "\n",
    "# Final DataFrame for Top 10 Docking Stations\n",
    "top_10_end_station.rename(columns = {\"end station name\":\"Number of Trips\"}, inplace = True)\n",
    "top_10_end_station"
   ]
  },
  {
   "cell_type": "code",
   "execution_count": 22,
   "metadata": {},
   "outputs": [
    {
     "name": "stdout",
     "output_type": "stream",
     "text": [
      "Object `plt.figsize` not found.\n"
     ]
    },
    {
     "data": {
      "image/png": "[encoded data removed]",
      "text/plain": [
       "<Figure size 432x288 with 1 Axes>"
      ]
     },
     "metadata": {
      "needs_background": "light"
     },
     "output_type": "display_data"
    }
   ],
   "source": [
    "# Plotting Bar Graph based on Top 10 Starting Stations\n",
    "plt.bar(top_10_start_station[\"Number of Trips\"].index,top_10_start_station[\"Number of Trips\"].values, width = 0.5)\n",
    "plt.xticks(rotation = 90)\n",
    "plt.title(\"10 Most Popular Starting Stations for Citi Bikes (2019)\")\n",
    "plt.ylabel(\"Total Number of Rides\")"
   ]
  },
  {
   "cell_type": "code",
   "execution_count": 23,
   "metadata": {},
   "outputs": [
    {
     "data": {
      "text/plain": [
       "Text(0, 0.5, 'Total Number of Rides')"
      ]
     },
     "execution_count": 23,
     "metadata": {},
     "output_type": "execute_result"
    },
    {
     "data": {
      "image/png": "[encoded data removed]",
      "text/plain": [
       "<Figure size 432x288 with 1 Axes>"
      ]
     },
     "metadata": {
      "needs_background": "light"
     },
     "output_type": "display_data"
    }
   ],
   "source": [
    "# Plotting Bar Graph based on Top 10 Docking Stations\n",
    "plt.bar(top_10_end_station[\"Number of Trips\"].index,top_10_end_station[\"Number of Trips\"].values, width = 0.5)\n",
    "plt.xticks(rotation = 90)\n",
    "plt.title(\"10 Most Popular Docking Stations for Citi Bikes (2019)\")\n",
    "plt.ylabel(\"Total Number of Rides\")"
   ]
  },
  {
   "cell_type": "code",
   "execution_count": 24,
   "metadata": {},
   "outputs": [
    {
     "data": {
      "text/html": [
       "<div>\n",
       "<style scoped>\n",
       "    .dataframe tbody tr th:only-of-type {\n",
       "        vertical-align: middle;\n",
       "    }\n",
       "\n",
       "    .dataframe tbody tr th {\n",
       "        vertical-align: top;\n",
       "    }\n",
       "\n",
       "    .dataframe thead th {\n",
       "        text-align: right;\n",
       "    }\n",
       "</style>\n",
       "<table border=\"1\" class=\"dataframe\">\n",
       "  <thead>\n",
       "    <tr style=\"text-align: right;\">\n",
       "      <th>Station Name</th>\n",
       "      <th>Number of Trips</th>\n",
       "      <th>Latitude</th>\n",
       "      <th>Longitude</th>\n",
       "    </tr>\n",
       "  </thead>\n",
       "  <tbody>\n",
       "    <tr>\n",
       "      <td>Pershing Square North</td>\n",
       "      <td>156575.0</td>\n",
       "      <td>40.751873</td>\n",
       "      <td>-73.977706</td>\n",
       "    </tr>\n",
       "    <tr>\n",
       "      <td>E 17 St &amp; Broadway</td>\n",
       "      <td>121781.0</td>\n",
       "      <td>40.737050</td>\n",
       "      <td>-73.990093</td>\n",
       "    </tr>\n",
       "    <tr>\n",
       "      <td>8 Ave &amp; W 31 St</td>\n",
       "      <td>119958.0</td>\n",
       "      <td>40.750585</td>\n",
       "      <td>-73.994685</td>\n",
       "    </tr>\n",
       "    <tr>\n",
       "      <td>Broadway &amp; E 22 St</td>\n",
       "      <td>113138.0</td>\n",
       "      <td>40.740343</td>\n",
       "      <td>-73.989551</td>\n",
       "    </tr>\n",
       "    <tr>\n",
       "      <td>Broadway &amp; E 14 St</td>\n",
       "      <td>113012.0</td>\n",
       "      <td>40.734546</td>\n",
       "      <td>-73.990741</td>\n",
       "    </tr>\n",
       "    <tr>\n",
       "      <td>W 21 St &amp; 6 Ave</td>\n",
       "      <td>110305.0</td>\n",
       "      <td>40.741740</td>\n",
       "      <td>-73.994156</td>\n",
       "    </tr>\n",
       "    <tr>\n",
       "      <td>West St &amp; Chambers St</td>\n",
       "      <td>105636.0</td>\n",
       "      <td>40.717548</td>\n",
       "      <td>-74.013221</td>\n",
       "    </tr>\n",
       "    <tr>\n",
       "      <td>Broadway &amp; W 60 St</td>\n",
       "      <td>103167.0</td>\n",
       "      <td>40.769155</td>\n",
       "      <td>-73.981918</td>\n",
       "    </tr>\n",
       "    <tr>\n",
       "      <td>Christopher St &amp; Greenwich St</td>\n",
       "      <td>101413.0</td>\n",
       "      <td>40.732916</td>\n",
       "      <td>-74.007114</td>\n",
       "    </tr>\n",
       "    <tr>\n",
       "      <td>12 Ave &amp; W 40 St</td>\n",
       "      <td>99300.0</td>\n",
       "      <td>40.760875</td>\n",
       "      <td>-74.002777</td>\n",
       "    </tr>\n",
       "  </tbody>\n",
       "</table>\n",
       "</div>"
      ],
      "text/plain": [
       "Station Name                   Number of Trips   Latitude  Longitude\n",
       "Pershing Square North                 156575.0  40.751873 -73.977706\n",
       "E 17 St & Broadway                    121781.0  40.737050 -73.990093\n",
       "8 Ave & W 31 St                       119958.0  40.750585 -73.994685\n",
       "Broadway & E 22 St                    113138.0  40.740343 -73.989551\n",
       "Broadway & E 14 St                    113012.0  40.734546 -73.990741\n",
       "W 21 St & 6 Ave                       110305.0  40.741740 -73.994156\n",
       "West St & Chambers St                 105636.0  40.717548 -74.013221\n",
       "Broadway & W 60 St                    103167.0  40.769155 -73.981918\n",
       "Christopher St & Greenwich St         101413.0  40.732916 -74.007114\n",
       "12 Ave & W 40 St                       99300.0  40.760875 -74.002777"
      ]
     },
     "execution_count": 24,
     "metadata": {},
     "output_type": "execute_result"
    }
   ],
   "source": [
    "# Renaming Index Column for Top 10 Starting Stations\n",
    "top_10_start_station.rename_axis(\"Station Name\", axis=\"columns\")"
   ]
  },
  {
   "cell_type": "code",
   "execution_count": 25,
   "metadata": {},
   "outputs": [
    {
     "data": {
      "application/vnd.jupyter.widget-view+json": {
       "model_id": "9a837f0fe0b84aadb16017a7ce615f8c",
       "version_major": 2,
       "version_minor": 0
      },
      "text/plain": [
       "Figure(layout=FigureLayout(height='420px'))"
      ]
     },
     "metadata": {},
     "output_type": "display_data"
    }
   ],
   "source": [
    "# Top 10 Start Stations\n",
    "fig = gmaps.figure(center = (40.75,-74), zoom_level = 12.50)\n",
    "\n",
    "# Loop for all indexes. Extract Coordinates and Station Name of Each Row from Top 10 Start Stations DataFrame\n",
    "for index, row in top_10_start_station.iterrows():\n",
    "    start_locations = top_10_start_station[[\"Latitude\", \"Longitude\"]]\n",
    "    start_stations = top_10_start_station.index\n",
    "    markers = gmaps.marker_layer(start_locations, info_box_content = start_stations)\n",
    "\n",
    "fig.add_layer(markers)\n",
    "fig"
   ]
  },
  {
   "cell_type": "code",
   "execution_count": 26,
   "metadata": {},
   "outputs": [
    {
     "data": {
      "application/vnd.jupyter.widget-view+json": {
       "model_id": "8ef12bbfd35b419582335cc0b0d78918",
       "version_major": 2,
       "version_minor": 0
      },
      "text/plain": [
       "Figure(layout=FigureLayout(height='420px'))"
      ]
     },
     "metadata": {},
     "output_type": "display_data"
    }
   ],
   "source": [
    "# Top 10 Docking Stations\n",
    "fig2 = gmaps.figure(center = (40.75,-74), zoom_level = 12.50)\n",
    "\n",
    "# Loop for all indexes. Extract Coordinates and Station Name of Each Row from Top 10 Start Stations DataFrame\n",
    "for index, row in top_10_end_station.iterrows():\n",
    "    end_locations = top_10_end_station[[\"Latitude\", \"Longitude\"]]\n",
    "    end_stations = top_10_end_station.index\n",
    "    markers = gmaps.marker_layer(end_locations, info_box_content = end_stations)\n",
    "\n",
    "fig2.add_layer(markers)\n",
    "fig2"
   ]
  },
  {
   "cell_type": "code",
   "execution_count": 33,
   "metadata": {},
   "outputs": [],
   "source": [
    "# creating an empty list. number of rides for the busiest day of each month will be added to this list\n",
    "busiest_day_month_rides = []\n",
    "# creating an empty list. busiest day date of each month will be added to this list\n",
    "busiest_day_month_dates = []\n",
    "\n",
    "# creating a function; scans through monthly data frame, reads from each csv file\n",
    "def busiest_day_months_test(dataframe):\n",
    "#     splitting starttime values into Dates and Times\n",
    "    new_start_time = dataframe[\"starttime\"].str.split(\" \", n = 1, expand = True)\n",
    "#     creating a new column for the date (extracted from the split)\n",
    "    dataframe[\"Date\"] = new_start_time[0]\n",
    "\n",
    "# Since we are looking for busiest day of the month (based on number of rides), we will groupby Date\n",
    "    \n",
    "# groupby newly created date column     \n",
    "    dates_groupby = dataframe.groupby([\"Date\"])\n",
    "# counting number of trips. \"tripduration\" was just an arbitrary column. any of the other columns would've given the same result  \n",
    "    dates_groupby_count = dates_groupby[\"tripduration\"].count()\n",
    "# sorting the rows based on number of rides    \n",
    "    most_rides_month = dates_groupby_count.sort_values(ascending = False)\n",
    "    print(most_rides_month.head(1))\n",
    "# extracting the number of rides from the busiest day (index = 0 because it's the first item in the list)   \n",
    "    day_rides_count = most_rides_month[0]\n",
    "# extracting the date from the busiest day (index = 0 because it's the first item in the list)    \n",
    "    date_print = most_rides_month.index[0]\n",
    "# appending number of rides and date of busiest day in month to empty lists. will be necessary for plotting    \n",
    "    busiest_day_month_rides.append(day_rides_count)\n",
    "    busiest_day_month_dates.append(date_print)"
   ]
  },
  {
   "cell_type": "code",
   "execution_count": 34,
   "metadata": {},
   "outputs": [
    {
     "name": "stdout",
     "output_type": "stream",
     "text": [
      "Busiest Day for January\n",
      "Date\n",
      "2019-01-09    44338\n",
      "Name: tripduration, dtype: int64\n",
      "--------------------------------\n",
      "Busiest Day for February\n",
      "Date\n",
      "2019-02-05    54161\n",
      "Name: tripduration, dtype: int64\n",
      "--------------------------------\n",
      "Busiest Day for March\n",
      "Date\n",
      "2019-03-30    66662\n",
      "Name: tripduration, dtype: int64\n",
      "--------------------------------\n",
      "Busiest Day for April\n",
      "Date\n",
      "2019-04-24    77723\n",
      "Name: tripduration, dtype: int64\n",
      "--------------------------------\n",
      "Busiest Day for May\n",
      "Date\n",
      "2019-05-31    83347\n",
      "Name: tripduration, dtype: int64\n",
      "--------------------------------\n",
      "Busiest Day for June\n",
      "Date\n",
      "2019-06-12    85042\n",
      "Name: tripduration, dtype: int64\n",
      "--------------------------------\n",
      "Busiest Day for July\n",
      "Date\n",
      "2019-07-24    87644\n",
      "Name: tripduration, dtype: int64\n",
      "--------------------------------\n",
      "Busiest Day for August\n",
      "Date\n",
      "2019-08-01    87706\n",
      "Name: tripduration, dtype: int64\n",
      "--------------------------------\n",
      "Busiest Day for September\n",
      "Date\n",
      "2019-09-21    98755\n",
      "Name: tripduration, dtype: int64\n",
      "--------------------------------\n",
      "Busiest Day for October\n",
      "Date\n",
      "2019-10-01    87033\n",
      "Name: tripduration, dtype: int64\n",
      "--------------------------------\n",
      "Busiest Day for November\n",
      "Date\n",
      "2019-11-05    73768\n",
      "Name: tripduration, dtype: int64\n",
      "--------------------------------\n",
      "Busiest Day for December\n",
      "Date\n",
      "2019-12-06    51607\n",
      "Name: tripduration, dtype: int64\n",
      "--------------------------------\n"
     ]
    }
   ],
   "source": [
    "print(\"Busiest Day for January\") \n",
    "busiest_day_months_test(jan_19_csv)\n",
    "print(\"--------------------------------\")\n",
    "print(\"Busiest Day for February\") \n",
    "busiest_day_months_test(feb_19_csv)\n",
    "print(\"--------------------------------\")\n",
    "print(\"Busiest Day for March\") \n",
    "busiest_day_months_test(mar_19_csv)\n",
    "print(\"--------------------------------\")\n",
    "\n",
    "print(\"Busiest Day for April\") \n",
    "busiest_day_months_test(april_2019_csv)\n",
    "print(\"--------------------------------\")\n",
    "print(\"Busiest Day for May\") \n",
    "busiest_day_months_test(may_2019_csv)\n",
    "print(\"--------------------------------\")\n",
    "print(\"Busiest Day for June\") \n",
    "busiest_day_months_test(june_2019_csv)\n",
    "print(\"--------------------------------\")\n",
    "\n",
    "print(\"Busiest Day for July\") \n",
    "busiest_day_months_test(july_2019_csv)\n",
    "print(\"--------------------------------\")\n",
    "print(\"Busiest Day for August\") \n",
    "busiest_day_months_test(august_2019_csv)\n",
    "print(\"--------------------------------\")\n",
    "print(\"Busiest Day for September\") \n",
    "busiest_day_months_test(september_2019_csv)\n",
    "print(\"--------------------------------\")\n",
    "\n",
    "print(\"Busiest Day for October\") \n",
    "busiest_day_months_test(october_2019_csv)\n",
    "print(\"--------------------------------\")\n",
    "print(\"Busiest Day for November\") \n",
    "busiest_day_months_test(november_2019_csv)\n",
    "print(\"--------------------------------\")\n",
    "print(\"Busiest Day for December\") \n",
    "busiest_day_months_test(december_2019_csv)\n",
    "print(\"--------------------------------\")\n"
   ]
  },
  {
   "cell_type": "code",
   "execution_count": 36,
   "metadata": {},
   "outputs": [
    {
     "data": {
      "text/plain": [
       "Text(0.5, 1.0, 'Busiest Day of Each Month in 2019')"
      ]
     },
     "execution_count": 36,
     "metadata": {},
     "output_type": "execute_result"
    },
    {
     "data": {
      "image/png": "[encoded data removed]",
      "text/plain": [
       "<Figure size 432x288 with 1 Axes>"
      ]
     },
     "metadata": {
      "needs_background": "light"
     },
     "output_type": "display_data"
    }
   ],
   "source": [
    "plt.bar(busiest_day_month_dates, height = busiest_day_month_rides)\n",
    "plt.xticks(rotation=90)\n",
    "plt.ylabel(\"Number of Trips\")\n",
    "plt.title(\"Busiest Day of Each Month in 2019\")"
   ]
  },
  {
   "cell_type": "code",
   "execution_count": 37,
   "metadata": {},
   "outputs": [],
   "source": [
    "# creating an empty list. number of rides for the slowest day of each month will be added to this list\n",
    "slowest_day_month_rides = []\n",
    "# creating an empty list. busiest day date of each month will be added to this list\n",
    "slowest_day_month_dates = []\n",
    "\n",
    "# creating a function; scans through monthly data frame, reads from each csv file\n",
    "def slowest_day_months_test(dataframe):\n",
    "#     splitting starttime values into Dates and Times\n",
    "    new_start_time = dataframe[\"starttime\"].str.split(\" \", n = 1, expand = True)\n",
    "#     creating a new column for the date (extracted from the split)\n",
    "    dataframe[\"Date\"] = new_start_time[0]\n",
    "\n",
    "# Since we are looking for busiest day of the month (based on number of rides), we will groupby Date\n",
    "    \n",
    "# groupby newly created date column     \n",
    "    dates_groupby = dataframe.groupby([\"Date\"])\n",
    "# counting number of trips. \"tripduration\" was just an arbitrary column. any of the other columns would've given the same result  \n",
    "    dates_groupby_count = dates_groupby[\"tripduration\"].count()\n",
    "# sorting the rows based on number of rides    \n",
    "    least_rides_month = dates_groupby_count.sort_values(ascending = True)\n",
    "    print(least_rides_month.head(1))\n",
    "# extracting the number of rides from the busiest day (index = 0 because it's the first item in the list)   \n",
    "    day_rides_count = least_rides_month[0]\n",
    "# extracting the date from the busiest day (index = 0 because it's the first item in the list)    \n",
    "    date_print = least_rides_month.index[0]\n",
    "# appending number of rides and date of busiest day in month to empty lists. will be necessary for plotting    \n",
    "    slowest_day_month_rides.append(day_rides_count)\n",
    "    slowest_day_month_dates.append(date_print)"
   ]
  },
  {
   "cell_type": "code",
   "execution_count": 38,
   "metadata": {},
   "outputs": [
    {
     "name": "stdout",
     "output_type": "stream",
     "text": [
      "Slowest Day for January\n",
      "Date\n",
      "2019-01-21    10291\n",
      "Name: tripduration, dtype: int64\n",
      "--------------------------------\n",
      "Slowest Day for February\n",
      "Date\n",
      "2019-02-12    15854\n",
      "Name: tripduration, dtype: int64\n",
      "--------------------------------\n",
      "Slowest Day for March\n",
      "Date\n",
      "2019-03-02    18001\n",
      "Name: tripduration, dtype: int64\n",
      "--------------------------------\n",
      "Slowest Day for April\n",
      "Date\n",
      "2019-04-05    34459\n",
      "Name: tripduration, dtype: int64\n",
      "--------------------------------\n",
      "Slowest Day for May\n",
      "Date\n",
      "2019-05-12    10729\n",
      "Name: tripduration, dtype: int64\n",
      "--------------------------------\n",
      "Slowest Day for June\n",
      "Date\n",
      "2019-06-18    36402\n",
      "Name: tripduration, dtype: int64\n",
      "--------------------------------\n",
      "Slowest Day for July\n",
      "Date\n",
      "2019-07-21    48198\n",
      "Name: tripduration, dtype: int64\n",
      "--------------------------------\n",
      "Slowest Day for August\n",
      "Date\n",
      "2019-08-07    52193\n",
      "Name: tripduration, dtype: int64\n",
      "--------------------------------\n",
      "Slowest Day for September\n",
      "Date\n",
      "2019-09-02    37792\n",
      "Name: tripduration, dtype: int64\n",
      "--------------------------------\n",
      "Slowest Day for October\n",
      "Date\n",
      "2019-10-27    26758\n",
      "Name: tripduration, dtype: int64\n",
      "--------------------------------\n",
      "Slowest Day for November\n",
      "Date\n",
      "2019-11-28    16173\n",
      "Name: tripduration, dtype: int64\n",
      "--------------------------------\n",
      "Slowest Day for December\n",
      "Date\n",
      "2019-12-01    10759\n",
      "Name: tripduration, dtype: int64\n",
      "--------------------------------\n"
     ]
    }
   ],
   "source": [
    "print(\"Slowest Day for January\") \n",
    "slowest_day_months_test(jan_19_csv)\n",
    "print(\"--------------------------------\")\n",
    "print(\"Slowest Day for February\") \n",
    "slowest_day_months_test(feb_19_csv)\n",
    "print(\"--------------------------------\")\n",
    "print(\"Slowest Day for March\") \n",
    "slowest_day_months_test(mar_19_csv)\n",
    "print(\"--------------------------------\")\n",
    "\n",
    "print(\"Slowest Day for April\") \n",
    "slowest_day_months_test(april_2019_csv)\n",
    "print(\"--------------------------------\")\n",
    "print(\"Slowest Day for May\") \n",
    "slowest_day_months_test(may_2019_csv)\n",
    "print(\"--------------------------------\")\n",
    "print(\"Slowest Day for June\") \n",
    "slowest_day_months_test(june_2019_csv)\n",
    "print(\"--------------------------------\")\n",
    "\n",
    "print(\"Slowest Day for July\") \n",
    "slowest_day_months_test(july_2019_csv)\n",
    "print(\"--------------------------------\")\n",
    "print(\"Slowest Day for August\") \n",
    "slowest_day_months_test(august_2019_csv)\n",
    "print(\"--------------------------------\")\n",
    "print(\"Slowest Day for September\") \n",
    "slowest_day_months_test(september_2019_csv)\n",
    "print(\"--------------------------------\")\n",
    "\n",
    "print(\"Slowest Day for October\") \n",
    "slowest_day_months_test(october_2019_csv)\n",
    "print(\"--------------------------------\")\n",
    "print(\"Slowest Day for November\") \n",
    "slowest_day_months_test(november_2019_csv)\n",
    "print(\"--------------------------------\")\n",
    "print(\"Slowest Day for December\") \n",
    "slowest_day_months_test(december_2019_csv)\n",
    "print(\"--------------------------------\")"
   ]
  },
  {
   "cell_type": "code",
   "execution_count": 39,
   "metadata": {},
   "outputs": [
    {
     "data": {
      "text/plain": [
       "Text(0.5, 1.0, 'Slowest Day of Each Month in 2019')"
      ]
     },
     "execution_count": 39,
     "metadata": {},
     "output_type": "execute_result"
    },
    {
     "data": {
      "image/png": "[encoded data removed]",
      "text/plain": [
       "<Figure size 432x288 with 1 Axes>"
      ]
     },
     "metadata": {
      "needs_background": "light"
     },
     "output_type": "display_data"
    }
   ],
   "source": [
    "plt.bar(slowest_day_month_dates, height = slowest_day_month_rides)\n",
    "plt.xticks(rotation=90)\n",
    "plt.ylabel(\"Number of Trips\")\n",
    "plt.title(\"Slowest Day of Each Month in 2019\")"
   ]
  },
  {
   "cell_type": "code",
   "execution_count": 40,
   "metadata": {},
   "outputs": [],
   "source": [
    "slowest_days_df = pd.DataFrame(slowest_day_month_dates)\n",
    "slowest_days_df[\"Number of Rides\"]= slowest_day_month_rides\n",
    "slowest_days_df.rename(columns = {0:\"Date\"}, inplace = True)"
   ]
  },
  {
   "cell_type": "code",
   "execution_count": 41,
   "metadata": {},
   "outputs": [],
   "source": [
    "busiest_days_df = pd.DataFrame(busiest_day_month_dates)\n",
    "busiest_days_df[\"Number of Rides\"]= busiest_day_month_rides\n",
    "busiest_days_df.rename(columns = {0:\"Date\"}, inplace = True)"
   ]
  },
  {
   "cell_type": "code",
   "execution_count": 42,
   "metadata": {},
   "outputs": [
    {
     "data": {
      "text/html": [
       "<div>\n",
       "<style scoped>\n",
       "    .dataframe tbody tr th:only-of-type {\n",
       "        vertical-align: middle;\n",
       "    }\n",
       "\n",
       "    .dataframe tbody tr th {\n",
       "        vertical-align: top;\n",
       "    }\n",
       "\n",
       "    .dataframe thead th {\n",
       "        text-align: right;\n",
       "    }\n",
       "</style>\n",
       "<table border=\"1\" class=\"dataframe\">\n",
       "  <thead>\n",
       "    <tr style=\"text-align: right;\">\n",
       "      <th></th>\n",
       "      <th>Date</th>\n",
       "      <th>Number of Rides</th>\n",
       "      <th>Average Temperature in F</th>\n",
       "      <th>Average Precipitation in Inches</th>\n",
       "      <th>Day of The Week</th>\n",
       "    </tr>\n",
       "  </thead>\n",
       "  <tbody>\n",
       "    <tr>\n",
       "      <td>0</td>\n",
       "      <td>2019-01-09</td>\n",
       "      <td>44338</td>\n",
       "      <td>42.48</td>\n",
       "      <td>0.21</td>\n",
       "      <td>Wednesday</td>\n",
       "    </tr>\n",
       "    <tr>\n",
       "      <td>1</td>\n",
       "      <td>2019-02-05</td>\n",
       "      <td>54161</td>\n",
       "      <td>50.33</td>\n",
       "      <td>0</td>\n",
       "      <td>Tuesday</td>\n",
       "    </tr>\n",
       "    <tr>\n",
       "      <td>2</td>\n",
       "      <td>2019-03-30</td>\n",
       "      <td>66662</td>\n",
       "      <td>54.63</td>\n",
       "      <td>0</td>\n",
       "      <td>Saturday</td>\n",
       "    </tr>\n",
       "    <tr>\n",
       "      <td>3</td>\n",
       "      <td>2019-04-24</td>\n",
       "      <td>77723</td>\n",
       "      <td>63.43</td>\n",
       "      <td>0.11</td>\n",
       "      <td>Friday</td>\n",
       "    </tr>\n",
       "    <tr>\n",
       "      <td>4</td>\n",
       "      <td>2019-05-31</td>\n",
       "      <td>83347</td>\n",
       "      <td>70.46</td>\n",
       "      <td>0.80</td>\n",
       "      <td>Friday</td>\n",
       "    </tr>\n",
       "    <tr>\n",
       "      <td>5</td>\n",
       "      <td>2019-06-12</td>\n",
       "      <td>85042</td>\n",
       "      <td>67.38</td>\n",
       "      <td>0</td>\n",
       "      <td>Wednesday</td>\n",
       "    </tr>\n",
       "    <tr>\n",
       "      <td>6</td>\n",
       "      <td>2019-07-24</td>\n",
       "      <td>87644</td>\n",
       "      <td>76.5</td>\n",
       "      <td>0.02</td>\n",
       "      <td>Wednesday</td>\n",
       "    </tr>\n",
       "    <tr>\n",
       "      <td>7</td>\n",
       "      <td>2019-08-01</td>\n",
       "      <td>87706</td>\n",
       "      <td>80.21</td>\n",
       "      <td>0.58</td>\n",
       "      <td>Thursday</td>\n",
       "    </tr>\n",
       "    <tr>\n",
       "      <td>8</td>\n",
       "      <td>2019-09-21</td>\n",
       "      <td>98755</td>\n",
       "      <td>73.46</td>\n",
       "      <td>0</td>\n",
       "      <td>Saturday</td>\n",
       "    </tr>\n",
       "    <tr>\n",
       "      <td>9</td>\n",
       "      <td>2019-10-01</td>\n",
       "      <td>87033</td>\n",
       "      <td>72.7</td>\n",
       "      <td>0</td>\n",
       "      <td>Tuesday</td>\n",
       "    </tr>\n",
       "    <tr>\n",
       "      <td>10</td>\n",
       "      <td>2019-11-05</td>\n",
       "      <td>73768</td>\n",
       "      <td>56.68</td>\n",
       "      <td>0</td>\n",
       "      <td>Tuesday</td>\n",
       "    </tr>\n",
       "    <tr>\n",
       "      <td>11</td>\n",
       "      <td>2019-12-06</td>\n",
       "      <td>51607</td>\n",
       "      <td>42.5</td>\n",
       "      <td>0</td>\n",
       "      <td>Friday</td>\n",
       "    </tr>\n",
       "  </tbody>\n",
       "</table>\n",
       "</div>"
      ],
      "text/plain": [
       "          Date  Number of Rides Average Temperature in F  \\\n",
       "0   2019-01-09            44338                    42.48   \n",
       "1   2019-02-05            54161                    50.33   \n",
       "2   2019-03-30            66662                    54.63   \n",
       "3   2019-04-24            77723                    63.43   \n",
       "4   2019-05-31            83347                    70.46   \n",
       "5   2019-06-12            85042                    67.38   \n",
       "6   2019-07-24            87644                     76.5   \n",
       "7   2019-08-01            87706                    80.21   \n",
       "8   2019-09-21            98755                    73.46   \n",
       "9   2019-10-01            87033                     72.7   \n",
       "10  2019-11-05            73768                    56.68   \n",
       "11  2019-12-06            51607                     42.5   \n",
       "\n",
       "   Average Precipitation in Inches Day of The Week  \n",
       "0                             0.21       Wednesday  \n",
       "1                                0         Tuesday  \n",
       "2                                0        Saturday  \n",
       "3                             0.11          Friday  \n",
       "4                             0.80          Friday  \n",
       "5                                0       Wednesday  \n",
       "6                             0.02       Wednesday  \n",
       "7                             0.58        Thursday  \n",
       "8                                0        Saturday  \n",
       "9                                0         Tuesday  \n",
       "10                               0         Tuesday  \n",
       "11                               0          Friday  "
      ]
     },
     "execution_count": 42,
     "metadata": {},
     "output_type": "execute_result"
    }
   ],
   "source": [
    "busiest_day_temp = [\"42.48\",\"50.33\",\"54.63\",\"63.43\",\"70.46\",\"67.38\",\"76.5\",\"80.21\",\"73.46\",\"72.7\",\"56.68\",\"42.5\"]\n",
    "busiest_day_precip = [\"0.21\", \"0\", \"0\", \"0.11\",\"0.80\",\"0\",\"0.02\",\"0.58\",\"0\",\"0\",\"0\",\"0\"]\n",
    "busiest_weekday = [\"Wednesday\", \"Tuesday\", \"Saturday\", \"Friday\",\"Friday\",\"Wednesday\",\"Wednesday\",\"Thursday\",\"Saturday\",\"Tuesday\",\"Tuesday\",\"Friday\"]\n",
    "\n",
    "\n",
    "busiest_days_df[\"Average Temperature in F\"] = busiest_day_temp\n",
    "busiest_days_df[\"Average Precipitation in Inches\"] = busiest_day_precip\n",
    "busiest_days_df[\"Day of The Week\"] = busiest_weekday\n",
    "busiest_days_df"
   ]
  },
  {
   "cell_type": "code",
   "execution_count": 43,
   "metadata": {},
   "outputs": [
    {
     "data": {
      "text/html": [
       "<div>\n",
       "<style scoped>\n",
       "    .dataframe tbody tr th:only-of-type {\n",
       "        vertical-align: middle;\n",
       "    }\n",
       "\n",
       "    .dataframe tbody tr th {\n",
       "        vertical-align: top;\n",
       "    }\n",
       "\n",
       "    .dataframe thead th {\n",
       "        text-align: right;\n",
       "    }\n",
       "</style>\n",
       "<table border=\"1\" class=\"dataframe\">\n",
       "  <thead>\n",
       "    <tr style=\"text-align: right;\">\n",
       "      <th></th>\n",
       "      <th>Date</th>\n",
       "      <th>Number of Rides</th>\n",
       "      <th>Average Temperature in F</th>\n",
       "      <th>Average Precipitation in Inches</th>\n",
       "      <th>Day of The Week</th>\n",
       "    </tr>\n",
       "  </thead>\n",
       "  <tbody>\n",
       "    <tr>\n",
       "      <td>0</td>\n",
       "      <td>2019-01-21</td>\n",
       "      <td>10291</td>\n",
       "      <td>11.58</td>\n",
       "      <td>0.20</td>\n",
       "      <td>Monday</td>\n",
       "    </tr>\n",
       "    <tr>\n",
       "      <td>1</td>\n",
       "      <td>2019-02-12</td>\n",
       "      <td>15854</td>\n",
       "      <td>30.51</td>\n",
       "      <td>0</td>\n",
       "      <td>Tuesday</td>\n",
       "    </tr>\n",
       "    <tr>\n",
       "      <td>2</td>\n",
       "      <td>2019-03-02</td>\n",
       "      <td>18001</td>\n",
       "      <td>34.6</td>\n",
       "      <td>0.41</td>\n",
       "      <td>Saturday</td>\n",
       "    </tr>\n",
       "    <tr>\n",
       "      <td>3</td>\n",
       "      <td>2019-04-05</td>\n",
       "      <td>34459</td>\n",
       "      <td>39.76</td>\n",
       "      <td>0</td>\n",
       "      <td>Sunday</td>\n",
       "    </tr>\n",
       "    <tr>\n",
       "      <td>4</td>\n",
       "      <td>2019-05-12</td>\n",
       "      <td>10729</td>\n",
       "      <td>49</td>\n",
       "      <td>0.42</td>\n",
       "      <td>Sunday</td>\n",
       "    </tr>\n",
       "    <tr>\n",
       "      <td>5</td>\n",
       "      <td>2019-06-18</td>\n",
       "      <td>36402</td>\n",
       "      <td>70.22</td>\n",
       "      <td>0.10</td>\n",
       "      <td>Tuesday</td>\n",
       "    </tr>\n",
       "    <tr>\n",
       "      <td>6</td>\n",
       "      <td>2019-07-21</td>\n",
       "      <td>48198</td>\n",
       "      <td>91.12</td>\n",
       "      <td>0</td>\n",
       "      <td>Sunday</td>\n",
       "    </tr>\n",
       "    <tr>\n",
       "      <td>7</td>\n",
       "      <td>2019-08-07</td>\n",
       "      <td>52193</td>\n",
       "      <td>77.19</td>\n",
       "      <td>0</td>\n",
       "      <td>Wednesday</td>\n",
       "    </tr>\n",
       "    <tr>\n",
       "      <td>8</td>\n",
       "      <td>2019-09-02</td>\n",
       "      <td>37792</td>\n",
       "      <td>73.79</td>\n",
       "      <td>0</td>\n",
       "      <td>Monday</td>\n",
       "    </tr>\n",
       "    <tr>\n",
       "      <td>9</td>\n",
       "      <td>2019-10-27</td>\n",
       "      <td>26758</td>\n",
       "      <td>61.74</td>\n",
       "      <td>0.03</td>\n",
       "      <td>Sunday</td>\n",
       "    </tr>\n",
       "    <tr>\n",
       "      <td>10</td>\n",
       "      <td>2019-11-28</td>\n",
       "      <td>16173</td>\n",
       "      <td>46.46</td>\n",
       "      <td>0.02</td>\n",
       "      <td>Thursday</td>\n",
       "    </tr>\n",
       "    <tr>\n",
       "      <td>11</td>\n",
       "      <td>2019-12-01</td>\n",
       "      <td>10759</td>\n",
       "      <td>35.17</td>\n",
       "      <td>0</td>\n",
       "      <td>Sunday</td>\n",
       "    </tr>\n",
       "  </tbody>\n",
       "</table>\n",
       "</div>"
      ],
      "text/plain": [
       "          Date  Number of Rides Average Temperature in F  \\\n",
       "0   2019-01-21            10291                    11.58   \n",
       "1   2019-02-12            15854                    30.51   \n",
       "2   2019-03-02            18001                     34.6   \n",
       "3   2019-04-05            34459                    39.76   \n",
       "4   2019-05-12            10729                       49   \n",
       "5   2019-06-18            36402                    70.22   \n",
       "6   2019-07-21            48198                    91.12   \n",
       "7   2019-08-07            52193                    77.19   \n",
       "8   2019-09-02            37792                    73.79   \n",
       "9   2019-10-27            26758                    61.74   \n",
       "10  2019-11-28            16173                    46.46   \n",
       "11  2019-12-01            10759                    35.17   \n",
       "\n",
       "   Average Precipitation in Inches Day of The Week  \n",
       "0                             0.20          Monday  \n",
       "1                                0         Tuesday  \n",
       "2                             0.41        Saturday  \n",
       "3                                0          Sunday  \n",
       "4                             0.42          Sunday  \n",
       "5                             0.10         Tuesday  \n",
       "6                                0          Sunday  \n",
       "7                                0       Wednesday  \n",
       "8                                0          Monday  \n",
       "9                             0.03          Sunday  \n",
       "10                            0.02        Thursday  \n",
       "11                               0          Sunday  "
      ]
     },
     "execution_count": 43,
     "metadata": {},
     "output_type": "execute_result"
    }
   ],
   "source": [
    "slowest_day_temp = [\"11.58\",\"30.51\",\"34.6\",\"39.76\",\"49\",\"70.22\",\"91.12\",\"77.19\",\"73.79\",\"61.74\",\"46.46\",\"35.17\"]\n",
    "slowest_day_precip = [\"0.20\",\"0\",\"0.41\",\"0\",\"0.42\",\"0.10\",\"0\",\"0\",\"0\",\"0.03\",\"0.02\",\"0\"]\n",
    "slowest_weekday = [\"Monday\",\"Tuesday\",\"Saturday\",\"Sunday\",\"Sunday\",\"Tuesday\",\"Sunday\",\"Wednesday\",\"Monday\",\"Sunday\",\"Thursday\",\"Sunday\"]\n",
    "\n",
    "slowest_days_df[\"Average Temperature in F\"] = slowest_day_temp\n",
    "slowest_days_df[\"Average Precipitation in Inches\"] = slowest_day_precip\n",
    "slowest_days_df[\"Day of The Week\"] = slowest_weekday\n",
    "slowest_days_df"
   ]
  },
  {
   "cell_type": "code",
   "execution_count": 48,
   "metadata": {},
   "outputs": [
    {
     "name": "stdout",
     "output_type": "stream",
     "text": [
      "The most common weekday amongst Busiest days of the month is Friday\n",
      "The most common weekday amongst Slowest days of the month is Sunday\n"
     ]
    }
   ],
   "source": [
    "# Finding the most reocurring busiest day of the week. \n",
    "\n",
    "busiest_day_of_week = max(set(busiest_weekday), key=busiest_weekday.count)\n",
    "print(f'The most common weekday amongst Busiest days of the month is {busiest_day_of_week}')\n",
    "\n",
    "# Finding the most reocurring slowest day of the week. \n",
    "slowest_day_of_week = max(set(slowest_weekday), key=slowest_weekday.count)\n",
    "print(f'The most common weekday amongst Slowest days of the month is {slowest_day_of_week}')"
   ]
  },
  {
   "cell_type": "code",
   "execution_count": 55,
   "metadata": {},
   "outputs": [
    {
     "data": {
      "text/plain": [
       "967269"
      ]
     },
     "execution_count": 55,
     "metadata": {},
     "output_type": "execute_result"
    }
   ],
   "source": [
    "jan_19_csv.dropna(axis=0,how=\"any\", inplace = True)\n",
    "jan_19_csv[\"tripduration\"].count()"
   ]
  },
  {
   "cell_type": "code",
   "execution_count": 71,
   "metadata": {},
   "outputs": [],
   "source": [
    "rides_per_month = []\n",
    "def monthly_rides(dataframe):\n",
    "    dataframe.dropna(axis=0,how=\"any\", inplace = True)\n",
    "    monthly_rides_count = dataframe[\"tripduration\"].count()\n",
    "    print(monthly_rides_count)\n",
    "    rides_per_month.append(monthly_rides_count)    "
   ]
  },
  {
   "cell_type": "code",
   "execution_count": 72,
   "metadata": {
    "scrolled": true
   },
   "outputs": [
    {
     "name": "stdout",
     "output_type": "stream",
     "text": [
      "Number of Rides in January\n",
      "967269\n",
      "---------------------------\n",
      "Number of Rides in February\n",
      "943735\n",
      "---------------------------\n",
      "Number of Rides in March\n",
      "1327950\n",
      "---------------------------\n",
      "Number of Rides in April\n",
      "1766094\n",
      "---------------------------\n",
      "Number of Rides in May\n",
      "1924563\n",
      "---------------------------\n",
      "Number of Rides in June\n",
      "2125370\n",
      "---------------------------\n",
      "Number of Rides in July\n",
      "2181010\n",
      "---------------------------\n",
      "Number of Rides in August\n",
      "2344135\n",
      "---------------------------\n",
      "Number of Rides in September\n",
      "2444900\n",
      "---------------------------\n",
      "Number of Rides in October\n",
      "2092573\n",
      "---------------------------\n",
      "Number of Rides in November\n",
      "1478708\n",
      "---------------------------\n",
      "Number of Rides in December\n",
      "955210\n",
      "---------------------------\n"
     ]
    },
    {
     "data": {
      "text/plain": [
       "[967269,\n",
       " 943735,\n",
       " 1327950,\n",
       " 1766094,\n",
       " 1924563,\n",
       " 2125370,\n",
       " 2181010,\n",
       " 2344135,\n",
       " 2444900,\n",
       " 2092573,\n",
       " 1478708,\n",
       " 955210]"
      ]
     },
     "execution_count": 72,
     "metadata": {},
     "output_type": "execute_result"
    }
   ],
   "source": [
    "print(\"Number of Rides in January\")\n",
    "monthly_rides(jan_19_csv)\n",
    "print(\"---------------------------\")\n",
    "\n",
    "print(\"Number of Rides in February\")\n",
    "monthly_rides(feb_19_csv)\n",
    "print(\"---------------------------\")\n",
    "\n",
    "print(\"Number of Rides in March\")\n",
    "monthly_rides(mar_19_csv)\n",
    "print(\"---------------------------\")\n",
    "\n",
    "print(\"Number of Rides in April\")\n",
    "monthly_rides(april_2019_csv)\n",
    "print(\"---------------------------\")\n",
    "\n",
    "print(\"Number of Rides in May\")\n",
    "monthly_rides(may_2019_csv)\n",
    "print(\"---------------------------\")\n",
    "\n",
    "print(\"Number of Rides in June\")\n",
    "monthly_rides(june_2019_csv)\n",
    "print(\"---------------------------\")\n",
    "\n",
    "print(\"Number of Rides in July\")\n",
    "monthly_rides(july_2019_csv)\n",
    "print(\"---------------------------\")\n",
    "\n",
    "print(\"Number of Rides in August\")\n",
    "monthly_rides(august_2019_csv)\n",
    "print(\"---------------------------\")\n",
    "\n",
    "print(\"Number of Rides in September\")\n",
    "monthly_rides(september_2019_csv)\n",
    "print(\"---------------------------\")\n",
    "\n",
    "print(\"Number of Rides in October\")\n",
    "monthly_rides(october_2019_csv)\n",
    "print(\"---------------------------\")\n",
    "\n",
    "print(\"Number of Rides in November\")\n",
    "monthly_rides(november_2019_csv)\n",
    "print(\"---------------------------\")\n",
    "\n",
    "print(\"Number of Rides in December\")\n",
    "monthly_rides(december_2019_csv)\n",
    "print(\"---------------------------\")\n",
    "\n",
    "rides_per_month"
   ]
  },
  {
   "cell_type": "code",
   "execution_count": 78,
   "metadata": {},
   "outputs": [
    {
     "data": {
      "text/plain": [
       "Text(0.5, 1.0, 'Trips per Month in 2019')"
      ]
     },
     "execution_count": 78,
     "metadata": {},
     "output_type": "execute_result"
    },
    {
     "data": {
      "image/png": "[encoded data removed]",
      "text/plain": [
       "<Figure size 432x288 with 1 Axes>"
      ]
     },
     "metadata": {
      "needs_background": "light"
     },
     "output_type": "display_data"
    }
   ],
   "source": [
    "months = [\"January\",\"February\",\"March\",\"April\",\"May\",\"June\",\"July\",\"August\",\"September\",\"October\",\"November\",\"December\"]\n",
    "\n",
    "plt.bar(months, height = rides_per_month)\n",
    "plt.xticks(rotation=90)\n",
    "plt.ylabel(\"Number of Trips\")\n",
    "plt.title(\"Trips per Month in 2019\")"
   ]
  }
 ],
 "metadata": {
  "kernelspec": {
   "display_name": "Python 3",
   "language": "python",
   "name": "python3"
  },
  "language_info": {
   "codemirror_mode": {
    "name": "ipython",
    "version": 3
   },
   "file_extension": ".py",
   "mimetype": "text/x-python",
   "name": "python",
   "nbconvert_exporter": "python",
   "pygments_lexer": "ipython3",
   "version": "3.7.4"
  }
 },
 "nbformat": 4,
 "nbformat_minor": 2
}
