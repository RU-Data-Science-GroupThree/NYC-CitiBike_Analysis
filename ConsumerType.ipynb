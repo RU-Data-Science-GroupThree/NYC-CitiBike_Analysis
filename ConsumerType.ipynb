{
 "cells": [
  {
   "cell_type": "code",
   "execution_count": 1,
   "metadata": {
    "ExecuteTime": {
     "end_time": "2020-04-15T21:42:35.687239Z",
     "start_time": "2020-04-15T21:42:35.676269Z"
    }
   },
   "outputs": [
    {
     "data": {
      "text/plain": [
       "'C:\\\\Users\\\\sanji\\\\Documents\\\\project\\\\NYC-CitiBike_Analysis\\\\Alex V'"
      ]
     },
     "execution_count": 1,
     "metadata": {},
     "output_type": "execute_result"
    }
   ],
   "source": [
    "pwd"
   ]
  },
  {
   "cell_type": "code",
   "execution_count": 2,
   "metadata": {
    "ExecuteTime": {
     "end_time": "2020-04-15T21:42:36.294624Z",
     "start_time": "2020-04-15T21:42:35.690231Z"
    }
   },
   "outputs": [],
   "source": [
    "import csv\n",
    "import pandas as pd\n",
    "import matplotlib.pyplot as plt\n",
    "#gmaps.configure(api_key=gkey)"
   ]
  },
  {
   "cell_type": "code",
   "execution_count": 3,
   "metadata": {
    "ExecuteTime": {
     "end_time": "2020-04-15T21:43:05.617712Z",
     "start_time": "2020-04-15T21:42:36.294624Z"
    }
   },
   "outputs": [],
   "source": [
    "jan_19_csv = pd.read_csv(\"../data/201901-citibike-tripdata.csv\")\n",
    "feb_19_csv = pd.read_csv(\"../data/201902-citibike-tripdata.csv\")\n",
    "mar_19_csv = pd.read_csv(\"../data/201903-citibike-tripdata.csv\")\n",
    "jan_feb_merge = pd.merge(jan_19_csv,feb_19_csv, how = \"outer\")\n",
    "quarter_01_2019 = pd.merge(jan_feb_merge, mar_19_csv, how = \"outer\")"
   ]
  },
  {
   "cell_type": "code",
   "execution_count": 4,
   "metadata": {
    "ExecuteTime": {
     "end_time": "2020-04-15T21:43:56.006968Z",
     "start_time": "2020-04-15T21:43:05.619746Z"
    }
   },
   "outputs": [],
   "source": [
    "april_2019_csv = pd.read_csv(\"../data/201904-citibike-tripdata.csv\")\n",
    "may_2019_csv = pd.read_csv(\"../data/201905-citibike-tripdata.csv\")\n",
    "june_2019_csv = pd.read_csv(\"../data/201906-citibike-tripdata.csv\")\n",
    "april_may_merge = pd.merge (april_2019_csv,may_2019_csv, how = \"outer\")\n",
    "quarter_02_2019 = pd.merge(april_may_merge, june_2019_csv, how = \"outer\")"
   ]
  },
  {
   "cell_type": "code",
   "execution_count": 5,
   "metadata": {
    "ExecuteTime": {
     "end_time": "2020-04-15T21:45:02.807264Z",
     "start_time": "2020-04-15T21:43:56.008977Z"
    }
   },
   "outputs": [],
   "source": [
    "july_2019_csv = pd.read_csv(\"../data/201907-citibike-tripdata.csv\")\n",
    "august_2019_csv = pd.read_csv(\"../data/201908-citibike-tripdata.csv\")\n",
    "september_2019_csv = pd.read_csv(\"../data/201909-citibike-tripdata.csv\")\n",
    "july_august_merge = pd.merge(july_2019_csv,august_2019_csv, how = \"outer\")\n",
    "quarter_03_2019 = pd.merge(july_august_merge,september_2019_csv, how = \"outer\")"
   ]
  },
  {
   "cell_type": "code",
   "execution_count": 6,
   "metadata": {
    "ExecuteTime": {
     "end_time": "2020-04-15T21:45:47.435108Z",
     "start_time": "2020-04-15T21:45:02.809314Z"
    }
   },
   "outputs": [],
   "source": [
    "october_2019_csv = pd.read_csv(\"../data/201910-citibike-tripdata.csv\")\n",
    "november_2019_csv = pd.read_csv(\"../data/201911-citibike-tripdata.csv\")\n",
    "december_2019_csv = pd.read_csv(\"../data/201912-citibike-tripdata.csv\")\n",
    "october_november_merge = pd.merge(october_2019_csv,november_2019_csv, how = \"outer\")\n",
    "quarter_04_2019 = pd.merge(october_november_merge,december_2019_csv, how = \"outer\")"
   ]
  },
  {
   "cell_type": "code",
   "execution_count": 7,
   "metadata": {
    "ExecuteTime": {
     "end_time": "2020-04-15T21:46:36.531648Z",
     "start_time": "2020-04-15T21:45:47.437210Z"
    }
   },
   "outputs": [],
   "source": [
    "H1_2019 = pd.merge(quarter_01_2019,quarter_02_2019, how = \"outer\")"
   ]
  },
  {
   "cell_type": "code",
   "execution_count": 8,
   "metadata": {
    "ExecuteTime": {
     "end_time": "2020-04-15T21:47:29.675293Z",
     "start_time": "2020-04-15T21:46:36.592147Z"
    }
   },
   "outputs": [],
   "source": [
    "H2_2019 = pd.merge(quarter_03_2019,quarter_04_2019, how = \"outer\")"
   ]
  },
  {
   "cell_type": "code",
   "execution_count": 15,
   "metadata": {
    "ExecuteTime": {
     "end_time": "2020-04-15T21:50:52.734966Z",
     "start_time": "2020-04-15T21:49:07.252452Z"
    }
   },
   "outputs": [],
   "source": [
    "Y_2019 = pd.merge(H1_2019, H2_2019, how = \"outer\")"
   ]
  },
  {
   "cell_type": "code",
   "execution_count": 9,
   "metadata": {
    "ExecuteTime": {
     "end_time": "2020-04-15T21:47:30.389555Z",
     "start_time": "2020-04-15T21:47:29.677301Z"
    }
   },
   "outputs": [
    {
     "name": "stdout",
     "output_type": "stream",
     "text": [
      "<class 'pandas.core.frame.DataFrame'>\n",
      "Int64Index: 3238991 entries, 0 to 3238990\n",
      "Data columns (total 15 columns):\n",
      " #   Column                   Dtype  \n",
      "---  ------                   -----  \n",
      " 0   tripduration             int64  \n",
      " 1   starttime                object \n",
      " 2   stoptime                 object \n",
      " 3   start station id         float64\n",
      " 4   start station name       object \n",
      " 5   start station latitude   float64\n",
      " 6   start station longitude  float64\n",
      " 7   end station id           float64\n",
      " 8   end station name         object \n",
      " 9   end station latitude     float64\n",
      " 10  end station longitude    float64\n",
      " 11  bikeid                   int64  \n",
      " 12  usertype                 object \n",
      " 13  birth year               int64  \n",
      " 14  gender                   int64  \n",
      "dtypes: float64(6), int64(4), object(5)\n",
      "memory usage: 395.4+ MB\n"
     ]
    }
   ],
   "source": [
    "quarter_01_2019.info()"
   ]
  },
  {
   "cell_type": "code",
   "execution_count": 10,
   "metadata": {
    "ExecuteTime": {
     "end_time": "2020-04-15T21:47:30.408506Z",
     "start_time": "2020-04-15T21:47:30.391551Z"
    }
   },
   "outputs": [
    {
     "data": {
      "text/plain": [
       "Index(['tripduration', 'starttime', 'stoptime', 'start station id',\n",
       "       'start station name', 'start station latitude',\n",
       "       'start station longitude', 'end station id', 'end station name',\n",
       "       'end station latitude', 'end station longitude', 'bikeid', 'usertype',\n",
       "       'birth year', 'gender'],\n",
       "      dtype='object')"
      ]
     },
     "execution_count": 10,
     "metadata": {},
     "output_type": "execute_result"
    }
   ],
   "source": [
    "quarter_01_2019.columns"
   ]
  },
  {
   "cell_type": "code",
   "execution_count": 11,
   "metadata": {
    "ExecuteTime": {
     "end_time": "2020-04-15T21:47:30.465912Z",
     "start_time": "2020-04-15T21:47:30.410501Z"
    }
   },
   "outputs": [
    {
     "data": {
      "text/html": [
       "<div>\n",
       "<style scoped>\n",
       "    .dataframe tbody tr th:only-of-type {\n",
       "        vertical-align: middle;\n",
       "    }\n",
       "\n",
       "    .dataframe tbody tr th {\n",
       "        vertical-align: top;\n",
       "    }\n",
       "\n",
       "    .dataframe thead th {\n",
       "        text-align: right;\n",
       "    }\n",
       "</style>\n",
       "<table border=\"1\" class=\"dataframe\">\n",
       "  <thead>\n",
       "    <tr style=\"text-align: right;\">\n",
       "      <th></th>\n",
       "      <th>tripduration</th>\n",
       "      <th>starttime</th>\n",
       "      <th>stoptime</th>\n",
       "      <th>start station id</th>\n",
       "      <th>start station name</th>\n",
       "      <th>start station latitude</th>\n",
       "      <th>start station longitude</th>\n",
       "      <th>end station id</th>\n",
       "      <th>end station name</th>\n",
       "      <th>end station latitude</th>\n",
       "      <th>end station longitude</th>\n",
       "      <th>bikeid</th>\n",
       "      <th>usertype</th>\n",
       "      <th>birth year</th>\n",
       "      <th>gender</th>\n",
       "    </tr>\n",
       "  </thead>\n",
       "  <tbody>\n",
       "    <tr>\n",
       "      <th>0</th>\n",
       "      <td>320</td>\n",
       "      <td>2019-01-01 00:01:47.4010</td>\n",
       "      <td>2019-01-01 00:07:07.5810</td>\n",
       "      <td>3160.0</td>\n",
       "      <td>Central Park West &amp; W 76 St</td>\n",
       "      <td>40.778968</td>\n",
       "      <td>-73.973747</td>\n",
       "      <td>3283.0</td>\n",
       "      <td>W 89 St &amp; Columbus Ave</td>\n",
       "      <td>40.788221</td>\n",
       "      <td>-73.970416</td>\n",
       "      <td>15839</td>\n",
       "      <td>Subscriber</td>\n",
       "      <td>1971</td>\n",
       "      <td>1</td>\n",
       "    </tr>\n",
       "  </tbody>\n",
       "</table>\n",
       "</div>"
      ],
      "text/plain": [
       "   tripduration                 starttime                  stoptime  \\\n",
       "0           320  2019-01-01 00:01:47.4010  2019-01-01 00:07:07.5810   \n",
       "\n",
       "   start station id           start station name  start station latitude  \\\n",
       "0            3160.0  Central Park West & W 76 St               40.778968   \n",
       "\n",
       "   start station longitude  end station id        end station name  \\\n",
       "0               -73.973747          3283.0  W 89 St & Columbus Ave   \n",
       "\n",
       "   end station latitude  end station longitude  bikeid    usertype  \\\n",
       "0             40.788221             -73.970416   15839  Subscriber   \n",
       "\n",
       "   birth year  gender  \n",
       "0        1971       1  "
      ]
     },
     "execution_count": 11,
     "metadata": {},
     "output_type": "execute_result"
    }
   ],
   "source": [
    "quarter_01_2019.head(1)"
   ]
  },
  {
   "cell_type": "code",
   "execution_count": 12,
   "metadata": {
    "ExecuteTime": {
     "end_time": "2020-04-15T21:47:30.472895Z",
     "start_time": "2020-04-15T21:47:30.468904Z"
    }
   },
   "outputs": [],
   "source": [
    "# df = quarter_01_2019.groupby(['bikeid'])['usertype'].value_counts()\n",
    "# df.tail(20)"
   ]
  },
  {
   "cell_type": "code",
   "execution_count": 16,
   "metadata": {
    "ExecuteTime": {
     "end_time": "2020-04-15T21:51:07.384359Z",
     "start_time": "2020-04-15T21:50:58.850429Z"
    }
   },
   "outputs": [
    {
     "data": {
      "text/plain": [
       "usertype    bikeid\n",
       "Customer    14529     140\n",
       "            14530     159\n",
       "            14531     144\n",
       "            14532       1\n",
       "            14533     181\n",
       "                     ... \n",
       "Subscriber  42044     569\n",
       "            42045     502\n",
       "            42046     538\n",
       "            42068       2\n",
       "            42088       1\n",
       "Length: 39009, dtype: int64"
      ]
     },
     "execution_count": 16,
     "metadata": {},
     "output_type": "execute_result"
    }
   ],
   "source": [
    "df = Y_2019.groupby(['usertype', 'bikeid']).size()\n",
    "df"
   ]
  },
  {
   "cell_type": "code",
   "execution_count": 18,
   "metadata": {
    "ExecuteTime": {
     "end_time": "2020-04-15T21:55:51.329513Z",
     "start_time": "2020-04-15T21:55:51.257062Z"
    }
   },
   "outputs": [
    {
     "data": {
      "text/html": [
       "<div>\n",
       "<style scoped>\n",
       "    .dataframe tbody tr th:only-of-type {\n",
       "        vertical-align: middle;\n",
       "    }\n",
       "\n",
       "    .dataframe tbody tr th {\n",
       "        vertical-align: top;\n",
       "    }\n",
       "\n",
       "    .dataframe thead th {\n",
       "        text-align: right;\n",
       "    }\n",
       "</style>\n",
       "<table border=\"1\" class=\"dataframe\">\n",
       "  <thead>\n",
       "    <tr style=\"text-align: right;\">\n",
       "      <th></th>\n",
       "      <th>tripduration</th>\n",
       "      <th>starttime</th>\n",
       "      <th>stoptime</th>\n",
       "      <th>start station id</th>\n",
       "      <th>start station name</th>\n",
       "      <th>start station latitude</th>\n",
       "      <th>start station longitude</th>\n",
       "      <th>end station id</th>\n",
       "      <th>end station name</th>\n",
       "      <th>end station latitude</th>\n",
       "      <th>end station longitude</th>\n",
       "      <th>bikeid</th>\n",
       "      <th>usertype</th>\n",
       "      <th>birth year</th>\n",
       "      <th>gender</th>\n",
       "    </tr>\n",
       "  </thead>\n",
       "  <tbody>\n",
       "    <tr>\n",
       "      <th>16994125</th>\n",
       "      <td>1405</td>\n",
       "      <td>2019-10-14 15:33:38.3370</td>\n",
       "      <td>2019-10-14 15:57:04.0470</td>\n",
       "      <td>3453.0</td>\n",
       "      <td>Devoe St &amp; Lorimer St</td>\n",
       "      <td>40.713352</td>\n",
       "      <td>-73.949103</td>\n",
       "      <td>285.0</td>\n",
       "      <td>Broadway &amp; E 14 St</td>\n",
       "      <td>40.734546</td>\n",
       "      <td>-73.990741</td>\n",
       "      <td>42068</td>\n",
       "      <td>Subscriber</td>\n",
       "      <td>1992</td>\n",
       "      <td>1</td>\n",
       "    </tr>\n",
       "    <tr>\n",
       "      <th>17849263</th>\n",
       "      <td>193</td>\n",
       "      <td>2019-10-27 14:41:16.2750</td>\n",
       "      <td>2019-10-27 14:44:29.5850</td>\n",
       "      <td>285.0</td>\n",
       "      <td>Broadway &amp; E 14 St</td>\n",
       "      <td>40.734546</td>\n",
       "      <td>-73.990741</td>\n",
       "      <td>335.0</td>\n",
       "      <td>Washington Pl &amp; Broadway</td>\n",
       "      <td>40.729039</td>\n",
       "      <td>-73.994046</td>\n",
       "      <td>42068</td>\n",
       "      <td>Subscriber</td>\n",
       "      <td>1984</td>\n",
       "      <td>1</td>\n",
       "    </tr>\n",
       "  </tbody>\n",
       "</table>\n",
       "</div>"
      ],
      "text/plain": [
       "          tripduration                 starttime                  stoptime  \\\n",
       "16994125          1405  2019-10-14 15:33:38.3370  2019-10-14 15:57:04.0470   \n",
       "17849263           193  2019-10-27 14:41:16.2750  2019-10-27 14:44:29.5850   \n",
       "\n",
       "          start station id     start station name  start station latitude  \\\n",
       "16994125            3453.0  Devoe St & Lorimer St               40.713352   \n",
       "17849263             285.0     Broadway & E 14 St               40.734546   \n",
       "\n",
       "          start station longitude  end station id          end station name  \\\n",
       "16994125               -73.949103           285.0        Broadway & E 14 St   \n",
       "17849263               -73.990741           335.0  Washington Pl & Broadway   \n",
       "\n",
       "          end station latitude  end station longitude  bikeid    usertype  \\\n",
       "16994125             40.734546             -73.990741   42068  Subscriber   \n",
       "17849263             40.729039             -73.994046   42068  Subscriber   \n",
       "\n",
       "          birth year  gender  \n",
       "16994125        1992       1  \n",
       "17849263        1984       1  "
      ]
     },
     "execution_count": 18,
     "metadata": {},
     "output_type": "execute_result"
    }
   ],
   "source": [
    "Y_2019.loc[Y_2019['bikeid'] == 42068 ]"
   ]
  },
  {
   "cell_type": "code",
   "execution_count": null,
   "metadata": {},
   "outputs": [],
   "source": []
  }
 ],
 "metadata": {
  "kernelspec": {
   "display_name": "Python 3.7.6 64-bit ('PythonData2020_1': conda)",
   "language": "python",
   "name": "python37664bitpythondata20201conda6baabde948e8485c8acdbdb1f5c8dec5"
  },
  "language_info": {
   "codemirror_mode": {
    "name": "ipython",
    "version": 3
   },
   "file_extension": ".py",
   "mimetype": "text/x-python",
   "name": "python",
   "nbconvert_exporter": "python",
   "pygments_lexer": "ipython3",
   "version": "3.7.6"
  },
  "latex_envs": {
   "LaTeX_envs_menu_present": true,
   "autoclose": false,
   "autocomplete": true,
   "bibliofile": "biblio.bib",
   "cite_by": "apalike",
   "current_citInitial": 1,
   "eqLabelWithNumbers": true,
   "eqNumInitial": 1,
   "hotkeys": {
    "equation": "Ctrl-E",
    "itemize": "Ctrl-I"
   },
   "labels_anchors": false,
   "latex_user_defs": false,
   "report_style_numbering": false,
   "user_envs_cfg": false
  },
  "toc": {
   "base_numbering": 1,
   "nav_menu": {},
   "number_sections": true,
   "sideBar": true,
   "skip_h1_title": false,
   "title_cell": "Table of Contents",
   "title_sidebar": "Contents",
   "toc_cell": false,
   "toc_position": {},
   "toc_section_display": true,
   "toc_window_display": false
  }
 },
 "nbformat": 4,
 "nbformat_minor": 4
}
